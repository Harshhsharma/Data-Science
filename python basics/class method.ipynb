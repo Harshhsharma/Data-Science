{
 "cells": [
  {
   "cell_type": "code",
   "execution_count": 24,
   "id": "d9b9764c-44ac-4f0f-a284-d5b3f34bf212",
   "metadata": {},
   "outputs": [],
   "source": [
    "class pwskills:\n",
    "    \n",
    "     def __init__(self,name,email):\n",
    "            self.name =  name\n",
    "            self.email = email\n",
    "     \n",
    "    \n",
    "     def student_details(self):\n",
    "        print(self.name , self.email)"
   ]
  },
  {
   "cell_type": "code",
   "execution_count": 25,
   "id": "b1fc3fba-625e-45a7-a102-dc92d59c575f",
   "metadata": {},
   "outputs": [],
   "source": [
    "pw = pwskills(\"mohan\",\"mohan@gmail.com\")"
   ]
  },
  {
   "cell_type": "code",
   "execution_count": 26,
   "id": "220db6b9-436b-40f2-8cd6-68e262a71206",
   "metadata": {},
   "outputs": [
    {
     "data": {
      "text/plain": [
       "'mohan'"
      ]
     },
     "execution_count": 26,
     "metadata": {},
     "output_type": "execute_result"
    }
   ],
   "source": [
    "pw.name"
   ]
  },
  {
   "cell_type": "code",
   "execution_count": 27,
   "id": "54e3b691-5c67-4da5-b87d-c64f227931e0",
   "metadata": {},
   "outputs": [
    {
     "data": {
      "text/plain": [
       "<__main__.pwskills at 0x7f203c364a90>"
      ]
     },
     "execution_count": 27,
     "metadata": {},
     "output_type": "execute_result"
    }
   ],
   "source": [
    "pw"
   ]
  },
  {
   "cell_type": "code",
   "execution_count": 28,
   "id": "054bfbb9-0938-4eac-878a-032247628b9b",
   "metadata": {},
   "outputs": [
    {
     "data": {
      "text/plain": [
       "'mohan@gmail.com'"
      ]
     },
     "execution_count": 28,
     "metadata": {},
     "output_type": "execute_result"
    }
   ],
   "source": [
    "pw.email"
   ]
  },
  {
   "cell_type": "code",
   "execution_count": 29,
   "id": "8c32e06a-aaf0-4b8f-8f91-418ca181e934",
   "metadata": {},
   "outputs": [
    {
     "name": "stdout",
     "output_type": "stream",
     "text": [
      "mohan mohan@gmail.com\n"
     ]
    }
   ],
   "source": [
    "pw.student_details()"
   ]
  },
  {
   "cell_type": "code",
   "execution_count": 44,
   "id": "83da7153-b1c8-443b-922a-187e0cd37bcb",
   "metadata": {},
   "outputs": [],
   "source": [
    "class pwskills1:\n",
    "    \n",
    "     def __init__(self,name,email):\n",
    "            self.name =  name\n",
    "            self.email = email\n",
    "            \n",
    "     @classmethod  \n",
    "     def details(cls,name,email):\n",
    "        return cls(name,email)\n",
    "    \n",
    "     def student_details(self):\n",
    "        print(self.name , self.email)"
   ]
  },
  {
   "cell_type": "code",
   "execution_count": 48,
   "id": "c26d362f-cadf-4765-9152-f6fd36599c43",
   "metadata": {},
   "outputs": [],
   "source": [
    "pw = pwskills1.details(\"harsh\",\"harsh@gamil\")"
   ]
  },
  {
   "cell_type": "code",
   "execution_count": 49,
   "id": "4dbea59b-93f8-44b5-a945-553c9e1bc6d1",
   "metadata": {},
   "outputs": [
    {
     "data": {
      "text/plain": [
       "'harsh'"
      ]
     },
     "execution_count": 49,
     "metadata": {},
     "output_type": "execute_result"
    }
   ],
   "source": [
    "pw.name"
   ]
  },
  {
   "cell_type": "code",
   "execution_count": 50,
   "id": "da842dc8-08b6-47d5-9d24-26d292c10a69",
   "metadata": {},
   "outputs": [
    {
     "name": "stdout",
     "output_type": "stream",
     "text": [
      "harsh harsh@gamil\n"
     ]
    }
   ],
   "source": [
    "pw.student_details()"
   ]
  },
  {
   "cell_type": "code",
   "execution_count": 8,
   "id": "4d2501c3-7cf5-45da-90cc-e5db44b93818",
   "metadata": {},
   "outputs": [],
   "source": [
    "class pwskills2:\n",
    "     mobile_num = 756574733\n",
    "    \n",
    "     def __init__(self,name,email):\n",
    "            self.name =  name\n",
    "            self.email = email\n",
    "            \n",
    "     @classmethod       \n",
    "     def change_number(cls,mobile):\n",
    "        pwskills2.mobile_num = mobile #assign new value of mobile in mobile number\n",
    "    \n",
    "    \n",
    "     @classmethod  \n",
    "     def details(cls,name,email):\n",
    "        return cls(name,email)\n",
    "    \n",
    "     def student_details(self):\n",
    "        print(self.name , self.email,pwskills2.mobile_num)"
   ]
  },
  {
   "cell_type": "code",
   "execution_count": 14,
   "id": "680c716a-e6e7-4e08-8db3-dd6f3c27e7a7",
   "metadata": {},
   "outputs": [],
   "source": [
    "pw = pwskills2.details(\"sstdtdd\",\"shdhs@gmail\")"
   ]
  },
  {
   "cell_type": "code",
   "execution_count": 15,
   "id": "63a170be-0cd1-48e7-8fd1-5667e3749706",
   "metadata": {},
   "outputs": [
    {
     "name": "stdout",
     "output_type": "stream",
     "text": [
      "sstdtdd shdhs@gmail 27474839\n"
     ]
    }
   ],
   "source": [
    "pw.student_details()"
   ]
  },
  {
   "cell_type": "code",
   "execution_count": 12,
   "id": "40a85a31-57a6-432c-b557-0e9422a05817",
   "metadata": {},
   "outputs": [],
   "source": [
    "pw_obj = pwskills2(\"hafshsh\",\"harshs@gmail.com\")"
   ]
  },
  {
   "cell_type": "code",
   "execution_count": 13,
   "id": "afbff6cc-d43e-4347-8ed2-828c9365957c",
   "metadata": {},
   "outputs": [
    {
     "name": "stdout",
     "output_type": "stream",
     "text": [
      "hafshsh harshs@gmail.com 27474839\n"
     ]
    }
   ],
   "source": [
    "pw_obj.student_details()"
   ]
  },
  {
   "cell_type": "code",
   "execution_count": 9,
   "id": "f6edaa88-aeeb-4c16-9417-506bf59ddf24",
   "metadata": {},
   "outputs": [],
   "source": [
    "pwskills2.change_number(27474839)"
   ]
  },
  {
   "cell_type": "code",
   "execution_count": 10,
   "id": "68ffb270-3190-4b90-a4f1-309007211edc",
   "metadata": {},
   "outputs": [
    {
     "data": {
      "text/plain": [
       "27474839"
      ]
     },
     "execution_count": 10,
     "metadata": {},
     "output_type": "execute_result"
    }
   ],
   "source": [
    "pwskills2.mobile_num"
   ]
  },
  {
   "cell_type": "code",
   "execution_count": 17,
   "id": "fd819d0a-1250-4f3a-9627-4181d17a1061",
   "metadata": {},
   "outputs": [],
   "source": [
    "class pwskills3:\n",
    "     mobile_num = 756574733\n",
    "    \n",
    "     def __init__(self,name,email):\n",
    "            self.name =  name\n",
    "            self.email = email\n",
    "            \n",
    "     @classmethod       \n",
    "     def change_number(cls,mobile):\n",
    "        pwskills2.mobile_num = mobile #assign new value of mobile in mobile number\n",
    "    \n",
    "    \n",
    "     @classmethod  \n",
    "     def details(cls,name,email):\n",
    "        return cls(name,email)\n",
    "    \n",
    "     def student_details(self):\n",
    "        print(self.name , self.email,pwskills2.mobile_num)"
   ]
  },
  {
   "cell_type": "code",
   "execution_count": 18,
   "id": "6cff56df-9ece-47f8-992b-5d405258b3e5",
   "metadata": {},
   "outputs": [],
   "source": [
    "def course_details(cls,course_name):\n",
    "    print(\"course name is\",course_name)"
   ]
  },
  {
   "cell_type": "code",
   "execution_count": 19,
   "id": "cb4902a8-1231-45a5-826e-989afdf5d0d0",
   "metadata": {},
   "outputs": [],
   "source": [
    "pwskills3.course_details = classmethod(course_details)"
   ]
  },
  {
   "cell_type": "code",
   "execution_count": 20,
   "id": "cde8b15d-197b-4d35-beb7-df31e724cea6",
   "metadata": {},
   "outputs": [],
   "source": [
    "def mentor(cls,list_of_mentor):\n",
    "    print(list_of_mentor)"
   ]
  },
  {
   "cell_type": "code",
   "execution_count": 21,
   "id": "3af8bfbd-90b9-4981-b301-72d5b9a9883c",
   "metadata": {},
   "outputs": [],
   "source": [
    "pwskills3.mentor = classmethod(mentor)"
   ]
  },
  {
   "cell_type": "code",
   "execution_count": 22,
   "id": "e602e795-c333-454c-a782-ebb71144f0a1",
   "metadata": {},
   "outputs": [
    {
     "name": "stdout",
     "output_type": "stream",
     "text": [
      "['harsgs', 'ashu']\n"
     ]
    }
   ],
   "source": [
    "pwskills3.mentor([\"harsgs\",\"ashu\"])"
   ]
  },
  {
   "cell_type": "code",
   "execution_count": 24,
   "id": "57713fc8-c05a-413b-9a8d-69a2a9fd8008",
   "metadata": {},
   "outputs": [],
   "source": [
    "class pwskills4:\n",
    "     mobile_num = 756574733\n",
    "    \n",
    "     def __init__(self,name,email):\n",
    "            self.name =  name\n",
    "            self.email = email\n",
    "            \n",
    "     @classmethod       \n",
    "     def change_number(cls,mobile):\n",
    "        pwskills2.mobile_num = mobile #assign new value of mobile in mobile number\n",
    "    \n",
    "    \n",
    "     @classmethod  \n",
    "     def details(cls,name,email):\n",
    "        return cls(name,email)\n",
    "    \n",
    "     def student_details(self):\n",
    "        print(self.name , self.email,pwskills2.mobile_num)"
   ]
  },
  {
   "cell_type": "code",
   "execution_count": 25,
   "id": "1336e00c-420f-42b3-93e0-78f3774f876c",
   "metadata": {},
   "outputs": [],
   "source": [
    "del pwskills4.change_number"
   ]
  },
  {
   "cell_type": "code",
   "execution_count": 27,
   "id": "b66ce339-c961-4e57-89ac-717d237531a9",
   "metadata": {},
   "outputs": [],
   "source": [
    "delattr(pwskills4,'details')"
   ]
  },
  {
   "cell_type": "code",
   "execution_count": 28,
   "id": "9d10bae9-8e32-4c2d-acfc-25e6c479c25e",
   "metadata": {},
   "outputs": [],
   "source": [
    "delattr(pwskills4,'student_details')"
   ]
  },
  {
   "cell_type": "code",
   "execution_count": 29,
   "id": "4953ae41-5e1d-4729-9f9d-aaacdcd3e62f",
   "metadata": {},
   "outputs": [],
   "source": [
    "delattr(pwskills4,'mobile_num')"
   ]
  },
  {
   "cell_type": "code",
   "execution_count": 26,
   "id": "14800b58-1a68-46c6-aa3b-75cb8e64b409",
   "metadata": {},
   "outputs": [
    {
     "ename": "AttributeError",
     "evalue": "type object 'pwskills4' has no attribute 'change_number'",
     "output_type": "error",
     "traceback": [
      "\u001b[0;31m---------------------------------------------------------------------------\u001b[0m",
      "\u001b[0;31mAttributeError\u001b[0m                            Traceback (most recent call last)",
      "Cell \u001b[0;32mIn[26], line 1\u001b[0m\n\u001b[0;32m----> 1\u001b[0m \u001b[43mpwskills4\u001b[49m\u001b[38;5;241;43m.\u001b[39;49m\u001b[43mchange_number\u001b[49m(\u001b[38;5;241m747833833\u001b[39m)\n",
      "\u001b[0;31mAttributeError\u001b[0m: type object 'pwskills4' has no attribute 'change_number'"
     ]
    }
   ],
   "source": [
    "pwskills4.change_number(747833833)"
   ]
  },
  {
   "cell_type": "code",
   "execution_count": null,
   "id": "aabf205a-1524-4951-958b-8c41168b4cff",
   "metadata": {},
   "outputs": [],
   "source": []
  }
 ],
 "metadata": {
  "kernelspec": {
   "display_name": "Python 3 (ipykernel)",
   "language": "python",
   "name": "python3"
  },
  "language_info": {
   "codemirror_mode": {
    "name": "ipython",
    "version": 3
   },
   "file_extension": ".py",
   "mimetype": "text/x-python",
   "name": "python",
   "nbconvert_exporter": "python",
   "pygments_lexer": "ipython3",
   "version": "3.10.8"
  }
 },
 "nbformat": 4,
 "nbformat_minor": 5
}
