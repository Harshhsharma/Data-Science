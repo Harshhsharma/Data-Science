{
 "cells": [
  {
   "cell_type": "code",
   "execution_count": 5,
   "id": "028eb16c-19c2-457f-86e4-0f7713f4e988",
   "metadata": {},
   "outputs": [],
   "source": [
    "import abc\n",
    "class pwskills:\n",
    "    \n",
    "    @abc.abstractmethod\n",
    "    def student_details(self):\n",
    "        pass\n",
    "    @abc.abstractmethod\n",
    "    def student_assignment(self):\n",
    "        pass\n",
    "    @abc.abstractmethod\n",
    "    def student_marks(self):\n",
    "        pass"
   ]
  },
  {
   "cell_type": "code",
   "execution_count": 6,
   "id": "7c1ef067-2cac-4d85-965a-c29428e080b4",
   "metadata": {},
   "outputs": [],
   "source": [
    "class student_details(pwskills):\n",
    "    \n",
    "    def student_details(self):\n",
    "        return \"this is method for student details\"\n",
    "    def student_assignment(self):\n",
    "        return \"helloo\"\n"
   ]
  },
  {
   "cell_type": "code",
   "execution_count": 7,
   "id": "2fd9205e-e086-46c5-9047-152e26ba3b7e",
   "metadata": {},
   "outputs": [],
   "source": [
    "class data_science_master(pwskills):\n",
    "    def student_details(self):\n",
    "        return \"this is method for student details for data science\"\n",
    "    def student_assignment(self):\n",
    "        return \"yes bro\"\n",
    "\n",
    "    \n",
    "    "
   ]
  },
  {
   "cell_type": "code",
   "execution_count": 8,
   "id": "aa96dfc8-e831-436b-9905-707992645c8c",
   "metadata": {},
   "outputs": [],
   "source": [
    "data = data_science_master()"
   ]
  },
  {
   "cell_type": "code",
   "execution_count": 9,
   "id": "e414e1d8-f35d-4610-9d2f-5a4dd146ece7",
   "metadata": {},
   "outputs": [
    {
     "data": {
      "text/plain": [
       "'this is method for student details for data science'"
      ]
     },
     "execution_count": 9,
     "metadata": {},
     "output_type": "execute_result"
    }
   ],
   "source": [
    "data.student_details()"
   ]
  },
  {
   "cell_type": "code",
   "execution_count": 10,
   "id": "693ae8a1-d4e3-43ff-96b8-9fc1fa9360bd",
   "metadata": {},
   "outputs": [],
   "source": [
    "sd= student_details()"
   ]
  },
  {
   "cell_type": "code",
   "execution_count": 11,
   "id": "4334f133-d62d-44b8-a724-404e102ae0e2",
   "metadata": {},
   "outputs": [
    {
     "data": {
      "text/plain": [
       "'this is method for student details'"
      ]
     },
     "execution_count": 11,
     "metadata": {},
     "output_type": "execute_result"
    }
   ],
   "source": [
    "sd.student_details()"
   ]
  },
  {
   "cell_type": "code",
   "execution_count": null,
   "id": "55276ddb-15fa-4392-bb0b-a15ed3e4ca55",
   "metadata": {},
   "outputs": [],
   "source": []
  }
 ],
 "metadata": {
  "kernelspec": {
   "display_name": "Python 3 (ipykernel)",
   "language": "python",
   "name": "python3"
  },
  "language_info": {
   "codemirror_mode": {
    "name": "ipython",
    "version": 3
   },
   "file_extension": ".py",
   "mimetype": "text/x-python",
   "name": "python",
   "nbconvert_exporter": "python",
   "pygments_lexer": "ipython3",
   "version": "3.10.8"
  }
 },
 "nbformat": 4,
 "nbformat_minor": 5
}
