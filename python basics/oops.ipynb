{
 "cells": [
  {
   "cell_type": "code",
   "execution_count": 1,
   "id": "0226a64a-78c9-4ca2-b7bf-89c7ced90de8",
   "metadata": {},
   "outputs": [],
   "source": [
    "a=1"
   ]
  },
  {
   "cell_type": "code",
   "execution_count": 2,
   "id": "f5f03d7b-2883-4e46-964c-9af07e79cb62",
   "metadata": {},
   "outputs": [
    {
     "name": "stdout",
     "output_type": "stream",
     "text": [
      "<class 'int'>\n"
     ]
    }
   ],
   "source": [
    "print(type(a))"
   ]
  },
  {
   "cell_type": "code",
   "execution_count": 4,
   "id": "89050875-2ee8-4eec-9467-00fe9ad1f4db",
   "metadata": {},
   "outputs": [
    {
     "name": "stdout",
     "output_type": "stream",
     "text": [
      "<class 'str'>\n"
     ]
    }
   ],
   "source": [
    "print(type(\"pwskill\"))"
   ]
  },
  {
   "cell_type": "code",
   "execution_count": 1,
   "id": "927f6621-5a58-4770-a62c-e03cc2147815",
   "metadata": {},
   "outputs": [],
   "source": [
    "class test: #class brings structure\n",
    "    pass"
   ]
  },
  {
   "cell_type": "code",
   "execution_count": 3,
   "id": "1213e575-b0da-4e18-a33a-e0af6e0e79b3",
   "metadata": {},
   "outputs": [],
   "source": [
    "a = test()"
   ]
  },
  {
   "cell_type": "code",
   "execution_count": 4,
   "id": "45c7b858-39b3-4aaa-bc7f-1fe86ae262b8",
   "metadata": {},
   "outputs": [
    {
     "data": {
      "text/plain": [
       "__main__.test"
      ]
     },
     "execution_count": 4,
     "metadata": {},
     "output_type": "execute_result"
    }
   ],
   "source": [
    "type(a)"
   ]
  },
  {
   "cell_type": "code",
   "execution_count": 17,
   "id": "019814b2-9bcb-4809-b046-b1b8e90d325e",
   "metadata": {},
   "outputs": [],
   "source": [
    "class pwskills:\n",
    "    def welcome(self):\n",
    "        print(\"hello\")"
   ]
  },
  {
   "cell_type": "code",
   "execution_count": 18,
   "id": "939c575a-9384-4999-a482-b46bfdb4c6d3",
   "metadata": {},
   "outputs": [],
   "source": [
    "rohan = pwskills()"
   ]
  },
  {
   "cell_type": "code",
   "execution_count": 8,
   "id": "a1550963-e0de-47ca-a2ee-0b0de3240d85",
   "metadata": {},
   "outputs": [
    {
     "name": "stdout",
     "output_type": "stream",
     "text": [
      "<class '__main__.pwskills'>\n"
     ]
    }
   ],
   "source": [
    "print(type(rohan))"
   ]
  },
  {
   "cell_type": "code",
   "execution_count": 19,
   "id": "b4087a86-acc1-471a-b6ca-6f16a19c2d93",
   "metadata": {},
   "outputs": [
    {
     "name": "stdout",
     "output_type": "stream",
     "text": [
      "hello\n"
     ]
    }
   ],
   "source": [
    "rohan.welcome()"
   ]
  },
  {
   "cell_type": "code",
   "execution_count": 20,
   "id": "740559cd-9f8a-43c8-aff8-5ac3b8267d24",
   "metadata": {},
   "outputs": [],
   "source": [
    "gaurav = pwskills()"
   ]
  },
  {
   "cell_type": "code",
   "execution_count": 21,
   "id": "612da95e-7384-49fe-a27c-61e301d558ee",
   "metadata": {},
   "outputs": [
    {
     "name": "stdout",
     "output_type": "stream",
     "text": [
      "hello\n"
     ]
    }
   ],
   "source": [
    "gaurav.welcome()"
   ]
  },
  {
   "cell_type": "code",
   "execution_count": 34,
   "id": "f842b81f-c535-4280-a572-5efebf8cbc61",
   "metadata": {},
   "outputs": [],
   "source": [
    "class pwskills1:\n",
    "    def __init__(self,phone_number ,email_id,student_id):\n",
    "        self.phone_number = phone_number\n",
    "        self.email_id = email_id\n",
    "        self.student_id = student_id\n",
    "        \n",
    "    def return_student_deetails(self):\n",
    "        return self.student_id,self.phone_number,self.email_id"
   ]
  },
  {
   "cell_type": "code",
   "execution_count": 29,
   "id": "3d95849d-3914-46f9-a28b-ae8b0ff11381",
   "metadata": {},
   "outputs": [
    {
     "ename": "TypeError",
     "evalue": "pwskills1.__init__() missing 3 required positional arguments: 'phoneno', 'email_id', and 'student_id'",
     "output_type": "error",
     "traceback": [
      "\u001b[0;31m---------------------------------------------------------------------------\u001b[0m",
      "\u001b[0;31mTypeError\u001b[0m                                 Traceback (most recent call last)",
      "Cell \u001b[0;32mIn[29], line 1\u001b[0m\n\u001b[0;32m----> 1\u001b[0m rohan \u001b[38;5;241m=\u001b[39m \u001b[43mpwskills1\u001b[49m\u001b[43m(\u001b[49m\u001b[43m)\u001b[49m\n",
      "\u001b[0;31mTypeError\u001b[0m: pwskills1.__init__() missing 3 required positional arguments: 'phoneno', 'email_id', and 'student_id'"
     ]
    }
   ],
   "source": [
    "rohan = pwskills1()"
   ]
  },
  {
   "cell_type": "code",
   "execution_count": 35,
   "id": "c835dc6c-106c-4767-bdc4-3633672018a9",
   "metadata": {},
   "outputs": [],
   "source": [
    "rohan = pwskills1(1223344234,\"hs152@gmail.com\",33253)"
   ]
  },
  {
   "cell_type": "code",
   "execution_count": 36,
   "id": "989af6af-51b1-4f52-afc2-e46dbab0f777",
   "metadata": {},
   "outputs": [
    {
     "data": {
      "text/plain": [
       "(33253, 1223344234, 'hs152@gmail.com')"
      ]
     },
     "execution_count": 36,
     "metadata": {},
     "output_type": "execute_result"
    }
   ],
   "source": [
    "rohan.return_student_deetails()"
   ]
  },
  {
   "cell_type": "code",
   "execution_count": 43,
   "id": "044bbce5-0a63-4554-906e-c20fe739d28f",
   "metadata": {},
   "outputs": [
    {
     "data": {
      "text/plain": [
       "1223344234"
      ]
     },
     "execution_count": 43,
     "metadata": {},
     "output_type": "execute_result"
    }
   ],
   "source": [
    "rohan.phone_number"
   ]
  },
  {
   "cell_type": "code",
   "execution_count": 37,
   "id": "1d86ddc9-f077-49b9-bc39-ad61485c632a",
   "metadata": {},
   "outputs": [],
   "source": [
    "gaurav = pwskills1(1234353485,\"gs@gamil.com\",3344)"
   ]
  },
  {
   "cell_type": "code",
   "execution_count": 39,
   "id": "95533ffe-1beb-4208-9a19-851ace5ddd3d",
   "metadata": {},
   "outputs": [
    {
     "data": {
      "text/plain": [
       "(3344, 1234353485, 'gs@gamil.com')"
      ]
     },
     "execution_count": 39,
     "metadata": {},
     "output_type": "execute_result"
    }
   ],
   "source": [
    "gaurav.return_student_deetails()"
   ]
  },
  {
   "cell_type": "code",
   "execution_count": 40,
   "id": "695e8e62-fc65-417b-936c-26d9b8453e57",
   "metadata": {},
   "outputs": [],
   "source": [
    "class pwskills2:\n",
    "    def __init__(self,phone_number ,email_id,student_id):\n",
    "        self.phone_number1 = phone_number\n",
    "        self.email_id1 = email_id\n",
    "        self.student_id1 = student_id\n",
    "        \n",
    "    def return_student_deetails(self):\n",
    "        return self.student_id,self.phone_number,self.email_id"
   ]
  },
  {
   "cell_type": "code",
   "execution_count": 41,
   "id": "6d5fe839-a046-41b5-a53f-b85de52f7f06",
   "metadata": {},
   "outputs": [],
   "source": [
    "sudh = pwskills2(123445,\"sudh@gamil.com\",344)"
   ]
  },
  {
   "cell_type": "code",
   "execution_count": 42,
   "id": "1871ec1f-edaf-4c93-a019-0ac3db8af319",
   "metadata": {},
   "outputs": [
    {
     "data": {
      "text/plain": [
       "<__main__.pwskills2 at 0x7fa7ac4520e0>"
      ]
     },
     "execution_count": 42,
     "metadata": {},
     "output_type": "execute_result"
    }
   ],
   "source": [
    "sudh"
   ]
  },
  {
   "cell_type": "code",
   "execution_count": 45,
   "id": "dda59246-9c59-446c-af32-3668ebba02fa",
   "metadata": {},
   "outputs": [
    {
     "ename": "AttributeError",
     "evalue": "'pwskills2' object has no attribute 'phone_number'",
     "output_type": "error",
     "traceback": [
      "\u001b[0;31m---------------------------------------------------------------------------\u001b[0m",
      "\u001b[0;31mAttributeError\u001b[0m                            Traceback (most recent call last)",
      "Cell \u001b[0;32mIn[45], line 1\u001b[0m\n\u001b[0;32m----> 1\u001b[0m \u001b[43msudh\u001b[49m\u001b[38;5;241;43m.\u001b[39;49m\u001b[43mphone_number\u001b[49m\n",
      "\u001b[0;31mAttributeError\u001b[0m: 'pwskills2' object has no attribute 'phone_number'"
     ]
    }
   ],
   "source": [
    "sudh.phone_number"
   ]
  },
  {
   "cell_type": "code",
   "execution_count": 46,
   "id": "5a68edc1-074d-4a65-8ebf-ff142ab1cd13",
   "metadata": {},
   "outputs": [
    {
     "data": {
      "text/plain": [
       "123445"
      ]
     },
     "execution_count": 46,
     "metadata": {},
     "output_type": "execute_result"
    }
   ],
   "source": [
    "sudh.phone_number1"
   ]
  },
  {
   "cell_type": "code",
   "execution_count": 62,
   "id": "e1163386-5272-4322-8fac-ce1b422365ad",
   "metadata": {},
   "outputs": [],
   "source": [
    "class pwskills2:\n",
    "    def __init__(sudh,phone_number ,email_id,student_id):\n",
    "        sudh.phone_number1 = phone_number\n",
    "        sudh.email_id1 = email_id\n",
    "        sudh.student_id1 = student_id\n",
    "        \n",
    "    def return_student_deetails(sudh):\n",
    "        return sudh.student_id1,sudh.phone_number1,sudh.email_id1"
   ]
  },
  {
   "cell_type": "code",
   "execution_count": 63,
   "id": "de7a1573-750d-4171-ad9b-356a79c87b62",
   "metadata": {},
   "outputs": [],
   "source": [
    "rohan= pwskills2(234343,\"hatss\",344)"
   ]
  },
  {
   "cell_type": "code",
   "execution_count": 64,
   "id": "71174518-e8ea-4809-b2f9-1d74dbd27a27",
   "metadata": {},
   "outputs": [
    {
     "data": {
      "text/plain": [
       "234343"
      ]
     },
     "execution_count": 64,
     "metadata": {},
     "output_type": "execute_result"
    }
   ],
   "source": [
    "rohan.phone_number1"
   ]
  },
  {
   "cell_type": "markdown",
   "id": "37aa4146-0dfe-4892-bba4-11e6908fd59a",
   "metadata": {},
   "source": [
    "means self is not reserved keyword we can use anything"
   ]
  },
  {
   "cell_type": "code",
   "execution_count": null,
   "id": "c31cfefe-6020-4577-b4e2-3cb33db56198",
   "metadata": {},
   "outputs": [],
   "source": []
  }
 ],
 "metadata": {
  "kernelspec": {
   "display_name": "Python 3 (ipykernel)",
   "language": "python",
   "name": "python3"
  },
  "language_info": {
   "codemirror_mode": {
    "name": "ipython",
    "version": 3
   },
   "file_extension": ".py",
   "mimetype": "text/x-python",
   "name": "python",
   "nbconvert_exporter": "python",
   "pygments_lexer": "ipython3",
   "version": "3.10.8"
  }
 },
 "nbformat": 4,
 "nbformat_minor": 5
}
