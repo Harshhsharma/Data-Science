{
 "cells": [
  {
   "cell_type": "code",
   "execution_count": 1,
   "id": "d8e7ea92-86c4-4ae0-ae0a-c8207987d625",
   "metadata": {},
   "outputs": [],
   "source": [
    "t = ()"
   ]
  },
  {
   "cell_type": "code",
   "execution_count": 2,
   "id": "27a42fc1-cc76-4bef-bb7f-1b6fed9a3356",
   "metadata": {},
   "outputs": [
    {
     "data": {
      "text/plain": [
       "tuple"
      ]
     },
     "execution_count": 2,
     "metadata": {},
     "output_type": "execute_result"
    }
   ],
   "source": [
    "type(t)"
   ]
  },
  {
   "cell_type": "code",
   "execution_count": 3,
   "id": "e0a0fc8b-3cbb-4ccf-8ca4-0f3a27d257ac",
   "metadata": {},
   "outputs": [],
   "source": [
    "t1 = (1,2,3,4,5,'harsh',True)"
   ]
  },
  {
   "cell_type": "code",
   "execution_count": 5,
   "id": "a8e37529-c59a-44a8-8d4a-451af8c12beb",
   "metadata": {},
   "outputs": [],
   "source": [
    "l = [1,2,3,4,5,'harsh',True]"
   ]
  },
  {
   "cell_type": "code",
   "execution_count": 6,
   "id": "80968d68-b44d-4831-a6fc-52210c741a8f",
   "metadata": {},
   "outputs": [
    {
     "data": {
      "text/plain": [
       "list"
      ]
     },
     "execution_count": 6,
     "metadata": {},
     "output_type": "execute_result"
    }
   ],
   "source": [
    "type(l)"
   ]
  },
  {
   "cell_type": "code",
   "execution_count": 7,
   "id": "8d59f8df-e487-465f-abd3-592bac0583bc",
   "metadata": {},
   "outputs": [
    {
     "data": {
      "text/plain": [
       "1"
      ]
     },
     "execution_count": 7,
     "metadata": {},
     "output_type": "execute_result"
    }
   ],
   "source": [
    "t1[0]"
   ]
  },
  {
   "cell_type": "code",
   "execution_count": 12,
   "id": "20f756ae-c20b-4deb-8556-68b87eceb113",
   "metadata": {},
   "outputs": [
    {
     "ename": "TypeError",
     "evalue": "'tuple' object does not support item assignment",
     "output_type": "error",
     "traceback": [
      "\u001b[0;31m---------------------------------------------------------------------------\u001b[0m",
      "\u001b[0;31mTypeError\u001b[0m                                 Traceback (most recent call last)",
      "Cell \u001b[0;32mIn[12], line 1\u001b[0m\n\u001b[0;32m----> 1\u001b[0m \u001b[43mt1\u001b[49m\u001b[43m[\u001b[49m\u001b[38;5;241;43m5\u001b[39;49m\u001b[43m]\u001b[49m \u001b[38;5;241m=\u001b[39m \u001b[38;5;124m'\u001b[39m\u001b[38;5;124mpwskils\u001b[39m\u001b[38;5;124m'\u001b[39m\u001b[38;5;66;03m#tuples are immutable\u001b[39;00m\n",
      "\u001b[0;31mTypeError\u001b[0m: 'tuple' object does not support item assignment"
     ]
    }
   ],
   "source": [
    "t1[5] = 'pwskils'#tuples are immutable"
   ]
  },
  {
   "cell_type": "code",
   "execution_count": 10,
   "id": "6a32563a-cc1f-4170-8657-d2071df163bb",
   "metadata": {},
   "outputs": [],
   "source": [
    "l[5] = 'pwskills'"
   ]
  },
  {
   "cell_type": "code",
   "execution_count": 11,
   "id": "33f6ee27-e75f-478c-99e3-5c89443a6249",
   "metadata": {},
   "outputs": [
    {
     "data": {
      "text/plain": [
       "[1, 2, 3, 4, 5, 'pwskills', True]"
      ]
     },
     "execution_count": 11,
     "metadata": {},
     "output_type": "execute_result"
    }
   ],
   "source": [
    "l"
   ]
  },
  {
   "cell_type": "code",
   "execution_count": 13,
   "id": "1f4e0616-2d09-4563-ad9d-cca02c7e93b7",
   "metadata": {},
   "outputs": [
    {
     "data": {
      "text/plain": [
       "(1, 2, 3, 4, 5, 'harsh', True)"
      ]
     },
     "execution_count": 13,
     "metadata": {},
     "output_type": "execute_result"
    }
   ],
   "source": [
    "t1"
   ]
  },
  {
   "cell_type": "code",
   "execution_count": 15,
   "id": "83c0fbc3-3b15-4aea-9527-b50b58ffddb3",
   "metadata": {},
   "outputs": [],
   "source": [
    "l1=list(t1)"
   ]
  },
  {
   "cell_type": "code",
   "execution_count": 16,
   "id": "489a63d5-3f98-4701-bb2e-b3c3c719e94a",
   "metadata": {},
   "outputs": [
    {
     "data": {
      "text/plain": [
       "[1, 2, 3, 4, 5, 'harsh', True]"
      ]
     },
     "execution_count": 16,
     "metadata": {},
     "output_type": "execute_result"
    }
   ],
   "source": [
    "l1"
   ]
  },
  {
   "cell_type": "code",
   "execution_count": 17,
   "id": "304d0a6e-f413-4145-92db-412f3a9cce8d",
   "metadata": {},
   "outputs": [
    {
     "data": {
      "text/plain": [
       "(1, 2, 3, 4, 5, 'harsh', True)"
      ]
     },
     "execution_count": 17,
     "metadata": {},
     "output_type": "execute_result"
    }
   ],
   "source": [
    "tuple(l1)"
   ]
  },
  {
   "cell_type": "code",
   "execution_count": 18,
   "id": "b5b07adf-f8c6-4a3e-859f-fed7560e4288",
   "metadata": {},
   "outputs": [],
   "source": [
    "t2 = (1,2,3,4,6,8)"
   ]
  },
  {
   "cell_type": "code",
   "execution_count": 19,
   "id": "be5a4118-3aca-40ca-b58f-e57cba275b46",
   "metadata": {},
   "outputs": [
    {
     "ename": "AttributeError",
     "evalue": "'tuple' object has no attribute 'sort'",
     "output_type": "error",
     "traceback": [
      "\u001b[0;31m---------------------------------------------------------------------------\u001b[0m",
      "\u001b[0;31mAttributeError\u001b[0m                            Traceback (most recent call last)",
      "Cell \u001b[0;32mIn[19], line 1\u001b[0m\n\u001b[0;32m----> 1\u001b[0m \u001b[43mt2\u001b[49m\u001b[38;5;241;43m.\u001b[39;49m\u001b[43msort\u001b[49m()\n",
      "\u001b[0;31mAttributeError\u001b[0m: 'tuple' object has no attribute 'sort'"
     ]
    }
   ],
   "source": [
    "t2.sort()"
   ]
  },
  {
   "cell_type": "code",
   "execution_count": 21,
   "id": "e1f9f441-72a4-4c10-8951-536173630cab",
   "metadata": {},
   "outputs": [
    {
     "data": {
      "text/plain": [
       "0"
      ]
     },
     "execution_count": 21,
     "metadata": {},
     "output_type": "execute_result"
    }
   ],
   "source": [
    "t1.count(100)"
   ]
  },
  {
   "cell_type": "code",
   "execution_count": 22,
   "id": "d9e3f09e-cc45-4ac9-a373-aa87f8014077",
   "metadata": {},
   "outputs": [
    {
     "data": {
      "text/plain": [
       "1"
      ]
     },
     "execution_count": 22,
     "metadata": {},
     "output_type": "execute_result"
    }
   ],
   "source": [
    "t1.count('harsh')"
   ]
  },
  {
   "cell_type": "code",
   "execution_count": 23,
   "id": "f8eaf664-9164-414e-a89c-35d303a21d2f",
   "metadata": {},
   "outputs": [
    {
     "data": {
      "text/plain": [
       "5"
      ]
     },
     "execution_count": 23,
     "metadata": {},
     "output_type": "execute_result"
    }
   ],
   "source": [
    "t1.index(\"harsh\")"
   ]
  },
  {
   "cell_type": "code",
   "execution_count": 25,
   "id": "3d51ad89-60e8-46f6-a164-28c97f995b77",
   "metadata": {},
   "outputs": [],
   "source": [
    "t2=(\"harsh\",2,4,5,7,4,2,7,\"harsh\")"
   ]
  },
  {
   "cell_type": "code",
   "execution_count": 27,
   "id": "b832ea52-f8e4-4cb6-acab-c837779a2eff",
   "metadata": {},
   "outputs": [
    {
     "data": {
      "text/plain": [
       "2"
      ]
     },
     "execution_count": 27,
     "metadata": {},
     "output_type": "execute_result"
    }
   ],
   "source": [
    "t2.count(\"harsh\")"
   ]
  },
  {
   "cell_type": "code",
   "execution_count": 29,
   "id": "bddc5fe7-cec1-4d2b-a3de-f11ff6d9d22c",
   "metadata": {},
   "outputs": [
    {
     "data": {
      "text/plain": [
       "0"
      ]
     },
     "execution_count": 29,
     "metadata": {},
     "output_type": "execute_result"
    }
   ],
   "source": [
    "t2.index(\"harsh\")"
   ]
  },
  {
   "cell_type": "code",
   "execution_count": 32,
   "id": "b8e99519-a1c7-45e6-83e9-31f9daed6aac",
   "metadata": {},
   "outputs": [],
   "source": [
    "t3=(1,2,3,4,8,6)"
   ]
  },
  {
   "cell_type": "code",
   "execution_count": 33,
   "id": "096bbcf7-fd67-4f72-bcf8-a560d94aedec",
   "metadata": {},
   "outputs": [
    {
     "data": {
      "text/plain": [
       "1"
      ]
     },
     "execution_count": 33,
     "metadata": {},
     "output_type": "execute_result"
    }
   ],
   "source": [
    "min(t3)"
   ]
  },
  {
   "cell_type": "code",
   "execution_count": 34,
   "id": "9f5479df-bb50-4d5b-b268-29c53ac74f80",
   "metadata": {},
   "outputs": [
    {
     "data": {
      "text/plain": [
       "8"
      ]
     },
     "execution_count": 34,
     "metadata": {},
     "output_type": "execute_result"
    }
   ],
   "source": [
    "max(t3)"
   ]
  },
  {
   "cell_type": "code",
   "execution_count": 35,
   "id": "4eb52cc5-0668-4e3e-9c5a-7e6ebac8a071",
   "metadata": {},
   "outputs": [
    {
     "data": {
      "text/plain": [
       "6"
      ]
     },
     "execution_count": 35,
     "metadata": {},
     "output_type": "execute_result"
    }
   ],
   "source": [
    "len(t3)"
   ]
  },
  {
   "cell_type": "code",
   "execution_count": null,
   "id": "c875c498-ba51-4dc9-ab26-6314f1308733",
   "metadata": {},
   "outputs": [],
   "source": []
  }
 ],
 "metadata": {
  "kernelspec": {
   "display_name": "Python 3 (ipykernel)",
   "language": "python",
   "name": "python3"
  },
  "language_info": {
   "codemirror_mode": {
    "name": "ipython",
    "version": 3
   },
   "file_extension": ".py",
   "mimetype": "text/x-python",
   "name": "python",
   "nbconvert_exporter": "python",
   "pygments_lexer": "ipython3",
   "version": "3.10.8"
  }
 },
 "nbformat": 4,
 "nbformat_minor": 5
}
