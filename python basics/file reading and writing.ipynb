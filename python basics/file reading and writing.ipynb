{
 "cells": [
  {
   "cell_type": "code",
   "execution_count": 5,
   "id": "a3f54128-c879-4a7d-a8d4-16e6c1c42bbb",
   "metadata": {},
   "outputs": [],
   "source": [
    "data = {\n",
    "    \"name\":\"harsh\",\n",
    "    \"mail_id\":\"harsg@gmail.com\",\n",
    "    \"phone number\":747383882,\n",
    "    \"subject\":[\"ata scince\",\"bigdata\"]}"
   ]
  },
  {
   "cell_type": "code",
   "execution_count": 9,
   "id": "e4f6f57a-a8d5-400d-b7e6-cf721a745afa",
   "metadata": {},
   "outputs": [],
   "source": [
    "import json"
   ]
  },
  {
   "cell_type": "code",
   "execution_count": 11,
   "id": "e5f3bf74-9e29-4dfd-932f-37d5dfa4f06b",
   "metadata": {},
   "outputs": [],
   "source": [
    "with open(\"data.json\",'w') as f:\n",
    "    json.dump(data,f)"
   ]
  },
  {
   "cell_type": "code",
   "execution_count": 12,
   "id": "861d029b-dc4c-407c-860e-9adecf4c8d7d",
   "metadata": {},
   "outputs": [],
   "source": [
    "with open(\"data.json\",'r') as f:\n",
    "    data1 = json.load(f)"
   ]
  },
  {
   "cell_type": "code",
   "execution_count": 13,
   "id": "51d6f5b9-2874-4ea0-9f43-61cb5d874032",
   "metadata": {},
   "outputs": [
    {
     "data": {
      "text/plain": [
       "{'name': 'harsh',\n",
       " 'mail_id': 'harsg@gmail.com',\n",
       " 'phone number': 747383882,\n",
       " 'subject': ['ata scince', 'bigdata']}"
      ]
     },
     "execution_count": 13,
     "metadata": {},
     "output_type": "execute_result"
    }
   ],
   "source": [
    "data1"
   ]
  },
  {
   "cell_type": "code",
   "execution_count": 14,
   "id": "b874010a-1f77-423a-ae3e-b3f71fd2e2eb",
   "metadata": {},
   "outputs": [
    {
     "data": {
      "text/plain": [
       "['ata scince', 'bigdata']"
      ]
     },
     "execution_count": 14,
     "metadata": {},
     "output_type": "execute_result"
    }
   ],
   "source": [
    "data1[\"subject\"]"
   ]
  },
  {
   "cell_type": "code",
   "execution_count": 15,
   "id": "af61eb02-5308-419c-a671-980b057fb04b",
   "metadata": {},
   "outputs": [],
   "source": [
    "import csv"
   ]
  },
  {
   "cell_type": "code",
   "execution_count": 16,
   "id": "01afec4a-809a-4050-b4d7-ad9c54b95652",
   "metadata": {},
   "outputs": [],
   "source": [
    "data = [[\"name\",\"email_id\",\"phone no\"],[\"harsh\",\"harss@gamil.com\",346384738]]"
   ]
  },
  {
   "cell_type": "code",
   "execution_count": 17,
   "id": "bdd7fdf6-eb85-41b0-8052-a8d0a2254451",
   "metadata": {},
   "outputs": [],
   "source": [
    "with open(\"data.csv\",\"w\") as f:\n",
    "    writer = csv.writer(f)\n",
    "    \n",
    "    for i in data:\n",
    "        writer.writerow(i)\n",
    "\n"
   ]
  },
  {
   "cell_type": "code",
   "execution_count": 18,
   "id": "870f4fa8-53f0-46d4-9811-c56cf476335e",
   "metadata": {},
   "outputs": [
    {
     "name": "stdout",
     "output_type": "stream",
     "text": [
      "['name', 'email_id', 'phone no']\n",
      "['harsh', 'harss@gamil.com', '346384738']\n"
     ]
    }
   ],
   "source": [
    "with open(\"data.csv\",\"r\") as f:\n",
    "    read_data = csv.reader(f)\n",
    "    \n",
    "    for i in read_data:\n",
    "        print(i)"
   ]
  },
  {
   "cell_type": "code",
   "execution_count": 27,
   "id": "ff5a2062-f9f4-4f5b-9cf2-9bda66005549",
   "metadata": {},
   "outputs": [],
   "source": [
    "with open(\"test4.bin\",\"wb\") as f:\n",
    "    f.write(b\"\\x01\\x02\\x03\\egsgsg\")\n",
    "    #for binary data"
   ]
  },
  {
   "cell_type": "code",
   "execution_count": 28,
   "id": "c7ee3ba1-ad7d-414c-816b-7a1b5101754a",
   "metadata": {},
   "outputs": [
    {
     "name": "stdout",
     "output_type": "stream",
     "text": [
      "b'\\x01\\x02\\x03\\\\egsgsg'\n"
     ]
    }
   ],
   "source": [
    "with open(\"test4.bin\",\"rb\") as f:\n",
    "    print(f.read())"
   ]
  },
  {
   "cell_type": "code",
   "execution_count": null,
   "id": "815f93df-2a7f-4038-b4d8-05605abfb6b6",
   "metadata": {},
   "outputs": [],
   "source": []
  }
 ],
 "metadata": {
  "kernelspec": {
   "display_name": "Python 3 (ipykernel)",
   "language": "python",
   "name": "python3"
  },
  "language_info": {
   "codemirror_mode": {
    "name": "ipython",
    "version": 3
   },
   "file_extension": ".py",
   "mimetype": "text/x-python",
   "name": "python",
   "nbconvert_exporter": "python",
   "pygments_lexer": "ipython3",
   "version": "3.10.8"
  }
 },
 "nbformat": 4,
 "nbformat_minor": 5
}
