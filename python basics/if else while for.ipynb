{
 "cells": [
  {
   "cell_type": "code",
   "execution_count": 8,
   "id": "c6465db0-5db7-4d9d-96c9-ee0e8bac7f26",
   "metadata": {},
   "outputs": [],
   "source": [
    "a = 10\n",
    "if a > 10:\n",
    "    print(\"a is greater\")\n"
   ]
  },
  {
   "cell_type": "code",
   "execution_count": 7,
   "id": "f61082fb-7a73-4e74-a852-fc2e18fdb59c",
   "metadata": {},
   "outputs": [
    {
     "data": {
      "text/plain": [
       "False"
      ]
     },
     "execution_count": 7,
     "metadata": {},
     "output_type": "execute_result"
    }
   ],
   "source": [
    "a>6"
   ]
  },
  {
   "cell_type": "code",
   "execution_count": 9,
   "id": "3876964c-92d5-4019-8ac2-7cea32a014ca",
   "metadata": {},
   "outputs": [
    {
     "name": "stdout",
     "output_type": "stream",
     "text": [
      "a is greater\n"
     ]
    }
   ],
   "source": [
    "a = 10\n",
    "if a >= 10:\n",
    "    print(\"a is greater\")\n"
   ]
  },
  {
   "cell_type": "code",
   "execution_count": 11,
   "id": "49381c31-3b2e-49f8-b119-9870cc8a75bd",
   "metadata": {},
   "outputs": [
    {
     "name": "stdout",
     "output_type": "stream",
     "text": [
      "yes b is lesser thsn 40\n"
     ]
    }
   ],
   "source": [
    "b =20\n",
    "if b >30:\n",
    "    print(\"yes b is greater then 30\")\n",
    "elif b<40:\n",
    "    print(\"yes b is lesser thsn 40\")"
   ]
  },
  {
   "cell_type": "code",
   "execution_count": 15,
   "id": "a9388e77-c099-43a3-b94a-1762c6d4441a",
   "metadata": {},
   "outputs": [
    {
     "name": "stdin",
     "output_type": "stream",
     "text": [
      " 50\n"
     ]
    },
    {
     "name": "stdout",
     "output_type": "stream",
     "text": [
      "yes b is greater then 30\n"
     ]
    }
   ],
   "source": [
    " b = int(input())\n",
    "if b >30:\n",
    "    print(\"yes b is greater then 30\")\n",
    "elif b<40:\n",
    "    print(\"yes b is lesser thsn 40\")\n",
    "else :\n",
    "    print(\"default\")"
   ]
  },
  {
   "cell_type": "code",
   "execution_count": 18,
   "id": "113f7675-d405-4932-b388-fa39ce48e901",
   "metadata": {},
   "outputs": [
    {
     "name": "stdout",
     "output_type": "stream",
     "text": [
      "1\n",
      "2\n",
      "3\n"
     ]
    }
   ],
   "source": [
    "n = 4 \n",
    "i = 1\n",
    "while  i<n:\n",
    "    print(i)\n",
    "    i = i+1"
   ]
  },
  {
   "cell_type": "code",
   "execution_count": 19,
   "id": "ad4bb07a-7ee3-429e-a361-b511836de8ce",
   "metadata": {},
   "outputs": [
    {
     "name": "stdout",
     "output_type": "stream",
     "text": [
      "1\n",
      "2\n",
      "3\n",
      "hello\n"
     ]
    }
   ],
   "source": [
    "n = 4 \n",
    "i = 1\n",
    "while  i<n:\n",
    "    print(i)\n",
    "    i = i+1\n",
    "else:\n",
    "    print(\"hello\")"
   ]
  },
  {
   "cell_type": "code",
   "execution_count": 20,
   "id": "f32ee5f9-b665-4e05-8edc-ed1044d65701",
   "metadata": {},
   "outputs": [
    {
     "name": "stdout",
     "output_type": "stream",
     "text": [
      "1\n",
      "2\n"
     ]
    }
   ],
   "source": [
    "n = 4 \n",
    "i = 1\n",
    "while  i<n:\n",
    "    print(i)\n",
    "    i = i+1\n",
    "    if i == 3:\n",
    "        break\n",
    "else:\n",
    "    print(\"hello\")"
   ]
  },
  {
   "cell_type": "code",
   "execution_count": 21,
   "id": "b20c1bf6-59a7-47ad-a772-ff3fab39aecb",
   "metadata": {},
   "outputs": [
    {
     "name": "stdout",
     "output_type": "stream",
     "text": [
      "h\n",
      "a\n",
      "r\n",
      "s\n",
      "h\n"
     ]
    }
   ],
   "source": [
    "s = 'harsh'\n",
    "for i in s :\n",
    "    print(i)"
   ]
  },
  {
   "cell_type": "code",
   "execution_count": 22,
   "id": "36a2e915-9002-4a89-bdc9-496ded2a3f00",
   "metadata": {},
   "outputs": [],
   "source": [
    "l = [ 2,3,4,5,6,'harsh',23.45,True]"
   ]
  },
  {
   "cell_type": "code",
   "execution_count": 24,
   "id": "db988582-5b1b-424b-9669-a0a07ddbd8fe",
   "metadata": {},
   "outputs": [
    {
     "name": "stdout",
     "output_type": "stream",
     "text": [
      "<class 'int'>\n",
      "<class 'int'>\n",
      "<class 'int'>\n",
      "<class 'int'>\n",
      "<class 'int'>\n",
      "<class 'str'>\n",
      "<class 'float'>\n",
      "<class 'bool'>\n"
     ]
    }
   ],
   "source": [
    "for i in l: #for checing type\n",
    "    print(type(i))"
   ]
  },
  {
   "cell_type": "code",
   "execution_count": 26,
   "id": "2f912876-7dce-4892-89b0-6fa613433e0e",
   "metadata": {},
   "outputs": [
    {
     "name": "stdout",
     "output_type": "stream",
     "text": [
      "<class 'int'>\n",
      "<class 'int'>\n",
      "<class 'int'>\n",
      "<class 'int'>\n",
      "<class 'int'>\n"
     ]
    }
   ],
   "source": [
    "for i in l: #for checing type\n",
    "    print(type(i))\n",
    "    if i == 6:\n",
    "        break\n",
    "else:\n",
    "    print(\"hello\")"
   ]
  },
  {
   "cell_type": "code",
   "execution_count": 27,
   "id": "77822163-e39b-462a-ba69-f1b1c5ed3e09",
   "metadata": {},
   "outputs": [
    {
     "data": {
      "text/plain": [
       "[2, 3, 4, 5, 6, 'harsh', 23.45, True]"
      ]
     },
     "execution_count": 27,
     "metadata": {},
     "output_type": "execute_result"
    }
   ],
   "source": [
    "l"
   ]
  },
  {
   "cell_type": "code",
   "execution_count": 28,
   "id": "d860644b-59f8-484d-96d3-a25afa644283",
   "metadata": {},
   "outputs": [
    {
     "name": "stdout",
     "output_type": "stream",
     "text": [
      "<class 'int'>\n",
      "2\n",
      "<class 'int'>\n",
      "3\n",
      "<class 'int'>\n",
      "4\n",
      "<class 'int'>\n",
      "5\n",
      "<class 'int'>\n",
      "<class 'str'>\n",
      "harsh\n",
      "<class 'float'>\n",
      "23.45\n",
      "<class 'bool'>\n",
      "True\n",
      "hello\n"
     ]
    }
   ],
   "source": [
    "for i in l: #for checing type\n",
    "    print(type(i))\n",
    "    if i == 6:\n",
    "        continue\n",
    "    print(i)   \n",
    "else:\n",
    "    print(\"hello\")"
   ]
  },
  {
   "cell_type": "code",
   "execution_count": 29,
   "id": "65970be2-9c24-4329-a241-f222afa85265",
   "metadata": {},
   "outputs": [
    {
     "data": {
      "text/plain": [
       "range(0, 10)"
      ]
     },
     "execution_count": 29,
     "metadata": {},
     "output_type": "execute_result"
    }
   ],
   "source": [
    "range(10)"
   ]
  },
  {
   "cell_type": "code",
   "execution_count": 30,
   "id": "8690f0a9-f709-4d3c-9fec-e9c2d96488cb",
   "metadata": {},
   "outputs": [
    {
     "data": {
      "text/plain": [
       "[0, 1, 2, 3, 4, 5, 6, 7, 8, 9]"
      ]
     },
     "execution_count": 30,
     "metadata": {},
     "output_type": "execute_result"
    }
   ],
   "source": [
    "list(range(10))"
   ]
  },
  {
   "cell_type": "code",
   "execution_count": null,
   "id": "b8be8569-061d-4b7e-9674-d69558a5acab",
   "metadata": {},
   "outputs": [],
   "source": []
  }
 ],
 "metadata": {
  "kernelspec": {
   "display_name": "Python 3 (ipykernel)",
   "language": "python",
   "name": "python3"
  },
  "language_info": {
   "codemirror_mode": {
    "name": "ipython",
    "version": 3
   },
   "file_extension": ".py",
   "mimetype": "text/x-python",
   "name": "python",
   "nbconvert_exporter": "python",
   "pygments_lexer": "ipython3",
   "version": "3.10.8"
  }
 },
 "nbformat": 4,
 "nbformat_minor": 5
}
