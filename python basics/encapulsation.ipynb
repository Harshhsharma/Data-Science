{
 "cells": [
  {
   "cell_type": "code",
   "execution_count": 1,
   "id": "601c86d7-bfa2-4dcf-98fb-8ece8cc2926c",
   "metadata": {},
   "outputs": [],
   "source": [
    "class test:\n",
    "    def __init__(self,a,b):\n",
    "        self.a = a\n",
    "        self.b = b"
   ]
  },
  {
   "cell_type": "code",
   "execution_count": 2,
   "id": "77de02f8-4be7-42d4-8a53-32a3f76df3fd",
   "metadata": {},
   "outputs": [],
   "source": [
    "t = test(34,565)"
   ]
  },
  {
   "cell_type": "code",
   "execution_count": 3,
   "id": "52785634-ec1e-4a67-85f0-ffa1404159c6",
   "metadata": {},
   "outputs": [],
   "source": [
    "t.a =344455"
   ]
  },
  {
   "cell_type": "code",
   "execution_count": 4,
   "id": "0cf5b88c-d7b4-48cc-ab44-6090ffc2eb02",
   "metadata": {},
   "outputs": [
    {
     "data": {
      "text/plain": [
       "344455"
      ]
     },
     "execution_count": 4,
     "metadata": {},
     "output_type": "execute_result"
    }
   ],
   "source": [
    "t.a"
   ]
  },
  {
   "cell_type": "code",
   "execution_count": 24,
   "id": "4b53da03-2af6-4186-bbef-43446d1c09d0",
   "metadata": {},
   "outputs": [],
   "source": [
    "class car:\n",
    "    def __init__(self,year,make,model,speed):\n",
    "        \n",
    "        self.__year = year\n",
    "        self.__make = make\n",
    "        self.__model = model  # -- can hide what you want to hide it from user\n",
    "        self.__speed = 0\n",
    "    def set_speed(self,speed):\n",
    "        self.__speed = 0 if speed < 0 else speed\n",
    "    def get_speed(self):\n",
    "        return self.__speed"
   ]
  },
  {
   "cell_type": "code",
   "execution_count": 25,
   "id": "697d48e2-0a0f-407c-981b-2eeed2b348ad",
   "metadata": {},
   "outputs": [],
   "source": [
    "c = car(2011,\"tata\",\"punch\",12)"
   ]
  },
  {
   "cell_type": "code",
   "execution_count": 26,
   "id": "05de6ed6-0bd2-410c-960f-aa4d30a82ca9",
   "metadata": {},
   "outputs": [
    {
     "ename": "AttributeError",
     "evalue": "'car' object has no attribute 'year'",
     "output_type": "error",
     "traceback": [
      "\u001b[0;31m---------------------------------------------------------------------------\u001b[0m",
      "\u001b[0;31mAttributeError\u001b[0m                            Traceback (most recent call last)",
      "Cell \u001b[0;32mIn[26], line 1\u001b[0m\n\u001b[0;32m----> 1\u001b[0m \u001b[43mc\u001b[49m\u001b[38;5;241;43m.\u001b[39;49m\u001b[43myear\u001b[49m\n",
      "\u001b[0;31mAttributeError\u001b[0m: 'car' object has no attribute 'year'"
     ]
    }
   ],
   "source": [
    "c.year"
   ]
  },
  {
   "cell_type": "code",
   "execution_count": 27,
   "id": "6522a2fc-18b9-47a4-8161-3c092012bc48",
   "metadata": {},
   "outputs": [
    {
     "data": {
      "text/plain": [
       "2011"
      ]
     },
     "execution_count": 27,
     "metadata": {},
     "output_type": "execute_result"
    }
   ],
   "source": [
    "c._car__year"
   ]
  },
  {
   "cell_type": "code",
   "execution_count": 28,
   "id": "92b880ca-d384-4092-a032-4b853a4d5178",
   "metadata": {},
   "outputs": [],
   "source": [
    "c.set_speed(-3344)"
   ]
  },
  {
   "cell_type": "code",
   "execution_count": 30,
   "id": "cc42bc87-a8cf-49dd-93d7-2144fe4daa49",
   "metadata": {},
   "outputs": [
    {
     "data": {
      "text/plain": [
       "0"
      ]
     },
     "execution_count": 30,
     "metadata": {},
     "output_type": "execute_result"
    }
   ],
   "source": [
    "c.get_speed()"
   ]
  },
  {
   "cell_type": "code",
   "execution_count": 31,
   "id": "37681dae-58d5-47d6-96e9-7dd06893d124",
   "metadata": {},
   "outputs": [],
   "source": [
    "class bank_account:\n",
    "    def __init__(self,balance):\n",
    "        self.__balance = balance\n",
    "    def deposite(self,amount):\n",
    "        self.__balance = self.__balance + amount\n",
    "    def withdraw(self,amount):\n",
    "        if self.__balance >= amount :\n",
    "            self.__balance = self.__balance - amount\n",
    "            return True\n",
    "        else:\n",
    "            return False\n",
    "    def get_balance(self):\n",
    "        return self.__balance"
   ]
  },
  {
   "cell_type": "code",
   "execution_count": 34,
   "id": "afa1a990-6982-4cf8-abff-8a7da58747ce",
   "metadata": {},
   "outputs": [],
   "source": [
    "harsh = bank_account(1000)"
   ]
  },
  {
   "cell_type": "code",
   "execution_count": 35,
   "id": "deefe79d-f80a-4dca-ab14-76eacb9f07b3",
   "metadata": {},
   "outputs": [
    {
     "data": {
      "text/plain": [
       "1000"
      ]
     },
     "execution_count": 35,
     "metadata": {},
     "output_type": "execute_result"
    }
   ],
   "source": [
    "harsh.get_balance()"
   ]
  },
  {
   "cell_type": "code",
   "execution_count": 36,
   "id": "3f938797-70eb-464d-b1fd-2b828585bdb4",
   "metadata": {},
   "outputs": [
    {
     "data": {
      "text/plain": [
       "True"
      ]
     },
     "execution_count": 36,
     "metadata": {},
     "output_type": "execute_result"
    }
   ],
   "source": [
    "harsh.withdraw(500)"
   ]
  },
  {
   "cell_type": "code",
   "execution_count": 37,
   "id": "892617c8-e2e5-4c3e-ab70-45efec439821",
   "metadata": {},
   "outputs": [
    {
     "data": {
      "text/plain": [
       "500"
      ]
     },
     "execution_count": 37,
     "metadata": {},
     "output_type": "execute_result"
    }
   ],
   "source": [
    "harsh.get_balance()"
   ]
  },
  {
   "cell_type": "code",
   "execution_count": 38,
   "id": "ff7ae53f-76a8-47b6-968d-ef0742609402",
   "metadata": {},
   "outputs": [],
   "source": [
    "harsh.deposite(1000)"
   ]
  },
  {
   "cell_type": "code",
   "execution_count": 39,
   "id": "f5b76cb9-ad7e-4c1d-be96-bc8b896de2ca",
   "metadata": {},
   "outputs": [
    {
     "data": {
      "text/plain": [
       "True"
      ]
     },
     "execution_count": 39,
     "metadata": {},
     "output_type": "execute_result"
    }
   ],
   "source": [
    "harsh.withdraw(344)"
   ]
  },
  {
   "cell_type": "code",
   "execution_count": 40,
   "id": "15fe4d9f-f5bd-4ff1-8c5f-d36d9df5b70c",
   "metadata": {},
   "outputs": [
    {
     "data": {
      "text/plain": [
       "1156"
      ]
     },
     "execution_count": 40,
     "metadata": {},
     "output_type": "execute_result"
    }
   ],
   "source": [
    "harsh.get_balance()"
   ]
  },
  {
   "cell_type": "code",
   "execution_count": null,
   "id": "ff741d4d-a57d-4892-a477-4a0cc77c00c5",
   "metadata": {},
   "outputs": [],
   "source": []
  }
 ],
 "metadata": {
  "kernelspec": {
   "display_name": "Python 3 (ipykernel)",
   "language": "python",
   "name": "python3"
  },
  "language_info": {
   "codemirror_mode": {
    "name": "ipython",
    "version": 3
   },
   "file_extension": ".py",
   "mimetype": "text/x-python",
   "name": "python",
   "nbconvert_exporter": "python",
   "pygments_lexer": "ipython3",
   "version": "3.10.8"
  }
 },
 "nbformat": 4,
 "nbformat_minor": 5
}
