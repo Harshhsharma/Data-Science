{
 "cells": [
  {
   "cell_type": "code",
   "execution_count": 1,
   "id": "25c4d14c-d48e-4461-917d-ba13135730c6",
   "metadata": {},
   "outputs": [],
   "source": [
    "def test(a,b):\n",
    "    return a+b"
   ]
  },
  {
   "cell_type": "code",
   "execution_count": 2,
   "id": "31410108-93c8-4d30-bf5c-3daff93191b0",
   "metadata": {},
   "outputs": [
    {
     "data": {
      "text/plain": [
       "7"
      ]
     },
     "execution_count": 2,
     "metadata": {},
     "output_type": "execute_result"
    }
   ],
   "source": [
    "test(3,4)"
   ]
  },
  {
   "cell_type": "code",
   "execution_count": 3,
   "id": "10c30366-6353-4ad5-b0bb-b71b45941f18",
   "metadata": {},
   "outputs": [
    {
     "data": {
      "text/plain": [
       "'sudhkumar'"
      ]
     },
     "execution_count": 3,
     "metadata": {},
     "output_type": "execute_result"
    }
   ],
   "source": [
    "test(\"sudh\",\"kumar\")"
   ]
  },
  {
   "cell_type": "code",
   "execution_count": 5,
   "id": "763c0db5-36eb-4a66-9eab-9e905e1750d9",
   "metadata": {},
   "outputs": [
    {
     "data": {
      "text/plain": [
       "[2, 4, 45, 56, 2, 3, 4, 5]"
      ]
     },
     "execution_count": 5,
     "metadata": {},
     "output_type": "execute_result"
    }
   ],
   "source": [
    "test([2,4,45,56],[2,3,4,5])#polymorphism means multiple behaveiour"
   ]
  },
  {
   "cell_type": "code",
   "execution_count": 48,
   "id": "be7cfd29-3bb4-4e76-acfa-b278722dccf3",
   "metadata": {},
   "outputs": [],
   "source": [
    "class data_science:\n",
    "    def syllabus(harsh):\n",
    "        print(\"this is my syllabus\")"
   ]
  },
  {
   "cell_type": "code",
   "execution_count": 49,
   "id": "fb069903-0b56-4bd8-b715-d025f65a226b",
   "metadata": {},
   "outputs": [],
   "source": [
    "class webdev:\n",
    "    def syllabus(self):\n",
    "        print(\"tjsis is syllabus\")"
   ]
  },
  {
   "cell_type": "code",
   "execution_count": 50,
   "id": "0605a4d8-6854-4579-8db5-d0fda7413ce7",
   "metadata": {},
   "outputs": [],
   "source": [
    "def class_parameter(class_obj):\n",
    "    for i in class_obj:\n",
    "        i.syllabus()"
   ]
  },
  {
   "cell_type": "code",
   "execution_count": 51,
   "id": "bbe81a67-15b0-47aa-a781-2725f21b360f",
   "metadata": {},
   "outputs": [],
   "source": [
    "data_science= data_science()"
   ]
  },
  {
   "cell_type": "code",
   "execution_count": 52,
   "id": "15e74ebf-af58-4f28-ab97-2f9c2878c6b9",
   "metadata": {},
   "outputs": [],
   "source": [
    "webdev = webdev()"
   ]
  },
  {
   "cell_type": "code",
   "execution_count": 53,
   "id": "23f55f28-7271-4cf3-861f-c08982a23772",
   "metadata": {},
   "outputs": [],
   "source": [
    "class_obj = [data_science,webdev]"
   ]
  },
  {
   "cell_type": "code",
   "execution_count": 54,
   "id": "efdc7119-cab7-41c1-a43d-cc0cae9b0318",
   "metadata": {},
   "outputs": [
    {
     "name": "stdout",
     "output_type": "stream",
     "text": [
      "this is my syllabus\n",
      "tjsis is syllabus\n"
     ]
    }
   ],
   "source": [
    "class_parameter(class_obj)"
   ]
  },
  {
   "cell_type": "code",
   "execution_count": null,
   "id": "738802ef-e392-40f3-8675-e54a56efef40",
   "metadata": {},
   "outputs": [],
   "source": []
  },
  {
   "cell_type": "code",
   "execution_count": null,
   "id": "ea300e86-a309-4abd-81b9-a84f2504f269",
   "metadata": {},
   "outputs": [],
   "source": []
  }
 ],
 "metadata": {
  "kernelspec": {
   "display_name": "Python 3 (ipykernel)",
   "language": "python",
   "name": "python3"
  },
  "language_info": {
   "codemirror_mode": {
    "name": "ipython",
    "version": 3
   },
   "file_extension": ".py",
   "mimetype": "text/x-python",
   "name": "python",
   "nbconvert_exporter": "python",
   "pygments_lexer": "ipython3",
   "version": "3.10.8"
  }
 },
 "nbformat": 4,
 "nbformat_minor": 5
}
