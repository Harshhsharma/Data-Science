{
 "cells": [
  {
   "cell_type": "code",
   "execution_count": 1,
   "id": "df7ea772-6b63-494d-900c-584a4b43ac43",
   "metadata": {},
   "outputs": [],
   "source": [
    "s ={}"
   ]
  },
  {
   "cell_type": "code",
   "execution_count": 2,
   "id": "af94bc21-09cf-4654-baf0-cfa4ec94eb58",
   "metadata": {},
   "outputs": [
    {
     "data": {
      "text/plain": [
       "dict"
      ]
     },
     "execution_count": 2,
     "metadata": {},
     "output_type": "execute_result"
    }
   ],
   "source": [
    "type(s)"
   ]
  },
  {
   "cell_type": "code",
   "execution_count": 3,
   "id": "37690af2-07fb-47ce-bb7b-88219b9d4237",
   "metadata": {},
   "outputs": [],
   "source": [
    "s = {1,2,3,4,5}"
   ]
  },
  {
   "cell_type": "code",
   "execution_count": 4,
   "id": "cb5d4f8c-2ad8-4596-b012-4dcf82b88577",
   "metadata": {},
   "outputs": [
    {
     "data": {
      "text/plain": [
       "set"
      ]
     },
     "execution_count": 4,
     "metadata": {},
     "output_type": "execute_result"
    }
   ],
   "source": [
    "type(s)"
   ]
  },
  {
   "cell_type": "code",
   "execution_count": 5,
   "id": "c56e0396-3fdc-44d9-8508-7ed7ba3bf9c7",
   "metadata": {},
   "outputs": [],
   "source": [
    "d = {}"
   ]
  },
  {
   "cell_type": "code",
   "execution_count": 6,
   "id": "eb3c6b24-7b22-425f-8932-a8ee0d73cb97",
   "metadata": {},
   "outputs": [
    {
     "data": {
      "text/plain": [
       "dict"
      ]
     },
     "execution_count": 6,
     "metadata": {},
     "output_type": "execute_result"
    }
   ],
   "source": [
    "type(d)"
   ]
  },
  {
   "cell_type": "code",
   "execution_count": 7,
   "id": "0733f940-9a2f-4bbd-b9fb-918a803ec78b",
   "metadata": {},
   "outputs": [],
   "source": [
    "d={'a':1}"
   ]
  },
  {
   "cell_type": "code",
   "execution_count": 8,
   "id": "5e7bcf8b-a68c-4676-ad5a-135859a37cfa",
   "metadata": {},
   "outputs": [
    {
     "data": {
      "text/plain": [
       "{'a': 1}"
      ]
     },
     "execution_count": 8,
     "metadata": {},
     "output_type": "execute_result"
    }
   ],
   "source": [
    "d"
   ]
  },
  {
   "cell_type": "code",
   "execution_count": 9,
   "id": "3ce7082c-b726-4498-9ffd-58a0177782b5",
   "metadata": {},
   "outputs": [],
   "source": [
    "d1 ={'name':'harsh'}"
   ]
  },
  {
   "cell_type": "code",
   "execution_count": 11,
   "id": "e4fdbb2e-4f98-4de9-a539-e44ed36ae6c1",
   "metadata": {},
   "outputs": [
    {
     "data": {
      "text/plain": [
       "'harsh'"
      ]
     },
     "execution_count": 11,
     "metadata": {},
     "output_type": "execute_result"
    }
   ],
   "source": [
    "d1['name']"
   ]
  },
  {
   "cell_type": "code",
   "execution_count": 14,
   "id": "ba37dda2-b972-45e3-8c90-0da4b85457e4",
   "metadata": {},
   "outputs": [],
   "source": [
    "d2 = {34354 : 'harsh'} #not special case for key"
   ]
  },
  {
   "cell_type": "code",
   "execution_count": 13,
   "id": "f1d0118c-6e3e-4613-a868-35c363032086",
   "metadata": {},
   "outputs": [
    {
     "data": {
      "text/plain": [
       "'harsh'"
      ]
     },
     "execution_count": 13,
     "metadata": {},
     "output_type": "execute_result"
    }
   ],
   "source": [
    "d2[34354]"
   ]
  },
  {
   "cell_type": "code",
   "execution_count": 15,
   "id": "d49eef5c-bbbb-44ee-9772-f8d63f0330ca",
   "metadata": {},
   "outputs": [
    {
     "ename": "TypeError",
     "evalue": "unhashable type: 'list'",
     "output_type": "error",
     "traceback": [
      "\u001b[0;31m---------------------------------------------------------------------------\u001b[0m",
      "\u001b[0;31mTypeError\u001b[0m                                 Traceback (most recent call last)",
      "Cell \u001b[0;32mIn[15], line 1\u001b[0m\n\u001b[0;32m----> 1\u001b[0m d4 \u001b[38;5;241m=\u001b[39m {[\u001b[38;5;241m1\u001b[39m,\u001b[38;5;241m2\u001b[39m,\u001b[38;5;241m3\u001b[39m] : \u001b[38;5;124m'\u001b[39m\u001b[38;5;124mharsh\u001b[39m\u001b[38;5;124m'\u001b[39m}\n",
      "\u001b[0;31mTypeError\u001b[0m: unhashable type: 'list'"
     ]
    }
   ],
   "source": [
    "d4 = {[1,2,3] : 'harsh'}"
   ]
  },
  {
   "cell_type": "code",
   "execution_count": 16,
   "id": "92426395-b070-44c3-a587-0cb604dbeb68",
   "metadata": {},
   "outputs": [],
   "source": [
    "d4 = {(1,2,3) : 'harsh'}"
   ]
  },
  {
   "cell_type": "code",
   "execution_count": 17,
   "id": "5e7437fe-7f18-4812-8acf-68614fd729a4",
   "metadata": {},
   "outputs": [
    {
     "ename": "TypeError",
     "evalue": "unhashable type: 'set'",
     "output_type": "error",
     "traceback": [
      "\u001b[0;31m---------------------------------------------------------------------------\u001b[0m",
      "\u001b[0;31mTypeError\u001b[0m                                 Traceback (most recent call last)",
      "Cell \u001b[0;32mIn[17], line 1\u001b[0m\n\u001b[0;32m----> 1\u001b[0m d4 \u001b[38;5;241m=\u001b[39m {{\u001b[38;5;241m1\u001b[39m,\u001b[38;5;241m2\u001b[39m,\u001b[38;5;241m3\u001b[39m} : \u001b[38;5;124m'\u001b[39m\u001b[38;5;124mharsh\u001b[39m\u001b[38;5;124m'\u001b[39m}\n",
      "\u001b[0;31mTypeError\u001b[0m: unhashable type: 'set'"
     ]
    }
   ],
   "source": [
    "d4 = {{1,2,3} : 'harsh'}"
   ]
  },
  {
   "cell_type": "code",
   "execution_count": 18,
   "id": "716c42f5-16f0-442f-9f2e-4fa91aadb573",
   "metadata": {},
   "outputs": [],
   "source": [
    "d4 = {True: 'harsh'}"
   ]
  },
  {
   "cell_type": "code",
   "execution_count": 19,
   "id": "474ed2ca-3282-473a-9fa7-3f97e48a0231",
   "metadata": {},
   "outputs": [
    {
     "ename": "TypeError",
     "evalue": "unhashable type: 'dict'",
     "output_type": "error",
     "traceback": [
      "\u001b[0;31m---------------------------------------------------------------------------\u001b[0m",
      "\u001b[0;31mTypeError\u001b[0m                                 Traceback (most recent call last)",
      "Cell \u001b[0;32mIn[19], line 1\u001b[0m\n\u001b[0;32m----> 1\u001b[0m d6 \u001b[38;5;241m=\u001b[39m {{\u001b[38;5;241m1\u001b[39m:\u001b[38;5;124m'\u001b[39m\u001b[38;5;124mjj\u001b[39m\u001b[38;5;124m'\u001b[39m}:\u001b[38;5;124m'\u001b[39m\u001b[38;5;124mharsh\u001b[39m\u001b[38;5;124m'\u001b[39m}\n",
      "\u001b[0;31mTypeError\u001b[0m: unhashable type: 'dict'"
     ]
    }
   ],
   "source": [
    "d6 = {{1:'jj'}:'harsh'}"
   ]
  },
  {
   "cell_type": "code",
   "execution_count": 24,
   "id": "745b67e2-cb0f-4e7d-81e2-c761cf7fd831",
   "metadata": {},
   "outputs": [],
   "source": [
    "d7 = {\"name\":\"harsh\",\"name\":\"anpa\"} #key is unique so its overrides with last element"
   ]
  },
  {
   "cell_type": "code",
   "execution_count": 23,
   "id": "0952bc6b-6ce1-4ba5-bef4-b8b1b51c7079",
   "metadata": {},
   "outputs": [
    {
     "data": {
      "text/plain": [
       "{'name': 'anpa'}"
      ]
     },
     "execution_count": 23,
     "metadata": {},
     "output_type": "execute_result"
    }
   ],
   "source": [
    "d7"
   ]
  },
  {
   "cell_type": "code",
   "execution_count": 25,
   "id": "79d882f6-f75d-417f-983a-12bc9bfaa384",
   "metadata": {},
   "outputs": [],
   "source": [
    "d8 = {\"name\":\"harsh\",\"email\":\"hs@gmail.com\",\"subject\":[\"dsm\",\"oops\",\"bigdata\"]}"
   ]
  },
  {
   "cell_type": "code",
   "execution_count": 26,
   "id": "48886cd2-5bec-432d-9feb-e5d967f726ab",
   "metadata": {},
   "outputs": [
    {
     "data": {
      "text/plain": [
       "{'name': 'harsh',\n",
       " 'email': 'hs@gmail.com',\n",
       " 'subject': ['dsm', 'oops', 'bigdata']}"
      ]
     },
     "execution_count": 26,
     "metadata": {},
     "output_type": "execute_result"
    }
   ],
   "source": [
    "d8"
   ]
  },
  {
   "cell_type": "markdown",
   "id": "c56da4eb-c74d-4a84-bb56-a8497bc930db",
   "metadata": {},
   "source": [
    "we can make dictionary in dictionary"
   ]
  },
  {
   "cell_type": "code",
   "execution_count": 28,
   "id": "b691aad2-494c-4a35-88a6-44895124c9bf",
   "metadata": {},
   "outputs": [],
   "source": [
    "d8['batchname']=\"binary2.0\""
   ]
  },
  {
   "cell_type": "code",
   "execution_count": 29,
   "id": "d89d2a84-456d-46fc-8f62-f7c0af1343df",
   "metadata": {},
   "outputs": [
    {
     "data": {
      "text/plain": [
       "{'name': 'harsh',\n",
       " 'email': 'hs@gmail.com',\n",
       " 'subject': ['dsm', 'oops', 'bigdata'],\n",
       " 'batchname': 'binary2.0'}"
      ]
     },
     "execution_count": 29,
     "metadata": {},
     "output_type": "execute_result"
    }
   ],
   "source": [
    "d8"
   ]
  },
  {
   "cell_type": "code",
   "execution_count": 30,
   "id": "f1f93a87-75f5-4a24-8374-0d0ac745e5ea",
   "metadata": {},
   "outputs": [],
   "source": [
    "d8[\"email\"]=\"harhs@gamil.com\""
   ]
  },
  {
   "cell_type": "code",
   "execution_count": 31,
   "id": "da35b4b9-3a67-4835-9de8-9be703444430",
   "metadata": {},
   "outputs": [
    {
     "data": {
      "text/plain": [
       "{'name': 'harsh',\n",
       " 'email': 'harhs@gamil.com',\n",
       " 'subject': ['dsm', 'oops', 'bigdata'],\n",
       " 'batchname': 'binary2.0'}"
      ]
     },
     "execution_count": 31,
     "metadata": {},
     "output_type": "execute_result"
    }
   ],
   "source": [
    "d8"
   ]
  },
  {
   "cell_type": "code",
   "execution_count": 32,
   "id": "29be9041-c4e0-436d-a40a-92fc363ce065",
   "metadata": {},
   "outputs": [],
   "source": [
    "del d8[\"email\"]"
   ]
  },
  {
   "cell_type": "code",
   "execution_count": 33,
   "id": "c0f8bd3e-6008-430c-8802-9fe67c8c87b2",
   "metadata": {},
   "outputs": [
    {
     "data": {
      "text/plain": [
       "{'name': 'harsh',\n",
       " 'subject': ['dsm', 'oops', 'bigdata'],\n",
       " 'batchname': 'binary2.0'}"
      ]
     },
     "execution_count": 33,
     "metadata": {},
     "output_type": "execute_result"
    }
   ],
   "source": [
    "d8"
   ]
  },
  {
   "cell_type": "code",
   "execution_count": 34,
   "id": "f260bd91-a4c8-4675-99d4-827397d64ecb",
   "metadata": {},
   "outputs": [
    {
     "data": {
      "text/plain": [
       "dict_keys(['name', 'subject', 'batchname'])"
      ]
     },
     "execution_count": 34,
     "metadata": {},
     "output_type": "execute_result"
    }
   ],
   "source": [
    "d8.keys()"
   ]
  },
  {
   "cell_type": "code",
   "execution_count": 36,
   "id": "e62a38f7-ca6f-498f-adce-7698c7bb8aac",
   "metadata": {},
   "outputs": [
    {
     "data": {
      "text/plain": [
       "dict_values(['harsh', ['dsm', 'oops', 'bigdata'], 'binary2.0'])"
      ]
     },
     "execution_count": 36,
     "metadata": {},
     "output_type": "execute_result"
    }
   ],
   "source": [
    "d8.values()"
   ]
  },
  {
   "cell_type": "code",
   "execution_count": 38,
   "id": "5a393f42-f47f-4cbd-823b-85d3d6052b42",
   "metadata": {},
   "outputs": [
    {
     "data": {
      "text/plain": [
       "dict_items([('name', 'harsh'), ('subject', ['dsm', 'oops', 'bigdata']), ('batchname', 'binary2.0')])"
      ]
     },
     "execution_count": 38,
     "metadata": {},
     "output_type": "execute_result"
    }
   ],
   "source": [
    "d8.items()"
   ]
  },
  {
   "cell_type": "code",
   "execution_count": 39,
   "id": "63e3d918-e503-4461-b343-595b5563cf0b",
   "metadata": {},
   "outputs": [],
   "source": [
    "d8.clear()"
   ]
  },
  {
   "cell_type": "code",
   "execution_count": 40,
   "id": "d7bc372b-17e2-4239-92a5-164ae42556a1",
   "metadata": {},
   "outputs": [
    {
     "data": {
      "text/plain": [
       "{}"
      ]
     },
     "execution_count": 40,
     "metadata": {},
     "output_type": "execute_result"
    }
   ],
   "source": [
    "d8"
   ]
  },
  {
   "cell_type": "code",
   "execution_count": null,
   "id": "a480360c-9620-495e-b16f-d9f19d1bcfc6",
   "metadata": {},
   "outputs": [],
   "source": []
  }
 ],
 "metadata": {
  "kernelspec": {
   "display_name": "Python 3 (ipykernel)",
   "language": "python",
   "name": "python3"
  },
  "language_info": {
   "codemirror_mode": {
    "name": "ipython",
    "version": 3
   },
   "file_extension": ".py",
   "mimetype": "text/x-python",
   "name": "python",
   "nbconvert_exporter": "python",
   "pygments_lexer": "ipython3",
   "version": "3.10.8"
  }
 },
 "nbformat": 4,
 "nbformat_minor": 5
}
