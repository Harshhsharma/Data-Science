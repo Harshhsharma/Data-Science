{
 "cells": [
  {
   "cell_type": "code",
   "execution_count": 4,
   "id": "9182a604-4fca-4c45-86d6-533771cdd003",
   "metadata": {},
   "outputs": [],
   "source": [
    "def test():\n",
    "    print(\"start\")\n",
    "    print (\"this is my function\")\n",
    "    print(\"end\")"
   ]
  },
  {
   "cell_type": "code",
   "execution_count": 5,
   "id": "98ac7fe7-4a52-4fa3-be12-4c3fe77944da",
   "metadata": {},
   "outputs": [
    {
     "name": "stdout",
     "output_type": "stream",
     "text": [
      "start\n",
      "this is my function\n",
      "end\n"
     ]
    }
   ],
   "source": [
    "test()"
   ]
  },
  {
   "cell_type": "code",
   "execution_count": 10,
   "id": "748ce061-ba88-43a2-900f-da9ff5eda4a3",
   "metadata": {},
   "outputs": [],
   "source": [
    "def deco(func):\n",
    "    def inner_dec():\n",
    "        print(\"this is start\")\n",
    "        func()\n",
    "        print(\"this is end\")\n",
    "    return inner_dec    \n"
   ]
  },
  {
   "cell_type": "code",
   "execution_count": 11,
   "id": "56beb1f0-5682-459e-83d2-1b5943df9cd0",
   "metadata": {},
   "outputs": [],
   "source": [
    "@deco\n",
    "def test1():\n",
    "    print(6+7)"
   ]
  },
  {
   "cell_type": "code",
   "execution_count": 12,
   "id": "62a6636c-288f-473d-ae26-f82ac63d0d62",
   "metadata": {},
   "outputs": [
    {
     "name": "stdout",
     "output_type": "stream",
     "text": [
      "this is start\n",
      "13\n",
      "this is end\n"
     ]
    }
   ],
   "source": [
    "test1()"
   ]
  },
  {
   "cell_type": "code",
   "execution_count": 21,
   "id": "310d57e1-63d8-4dfb-a709-c7136fc662a8",
   "metadata": {},
   "outputs": [],
   "source": [
    "import time \n",
    "def timer_test(func):\n",
    "    def timer_inner_func():\n",
    "        start = time.time()\n",
    "        func()\n",
    "        end = time.time()\n",
    "        print(end ,start)\n",
    "    return timer_inner_func    "
   ]
  },
  {
   "cell_type": "code",
   "execution_count": 22,
   "id": "e0ace6e2-46de-4875-b54a-e8552b8fbc5a",
   "metadata": {},
   "outputs": [],
   "source": [
    "@timer_test\n",
    "def test2():\n",
    "    print(45+78)"
   ]
  },
  {
   "cell_type": "code",
   "execution_count": 23,
   "id": "2226b24a-cdc3-4b02-bccc-4603effd8b78",
   "metadata": {},
   "outputs": [
    {
     "name": "stdout",
     "output_type": "stream",
     "text": [
      "123\n",
      "1696534913.4016736 1696534913.4016259\n"
     ]
    }
   ],
   "source": [
    "test2()"
   ]
  },
  {
   "cell_type": "code",
   "execution_count": 26,
   "id": "f1af9779-3dea-4cc6-81a6-f5cc05375cf8",
   "metadata": {},
   "outputs": [],
   "source": [
    "@timer_test\n",
    "def test():\n",
    "    for i in range(100000):\n",
    "        pass"
   ]
  },
  {
   "cell_type": "code",
   "execution_count": 27,
   "id": "0a9cdbad-c223-47c9-9c8e-44504be39d21",
   "metadata": {},
   "outputs": [
    {
     "name": "stdout",
     "output_type": "stream",
     "text": [
      "1696535044.9943442 1696535044.9918861\n"
     ]
    }
   ],
   "source": [
    "test()"
   ]
  },
  {
   "cell_type": "code",
   "execution_count": null,
   "id": "bf36a376-0bee-409a-bc88-f25adb8041e1",
   "metadata": {},
   "outputs": [],
   "source": []
  }
 ],
 "metadata": {
  "kernelspec": {
   "display_name": "Python 3 (ipykernel)",
   "language": "python",
   "name": "python3"
  },
  "language_info": {
   "codemirror_mode": {
    "name": "ipython",
    "version": 3
   },
   "file_extension": ".py",
   "mimetype": "text/x-python",
   "name": "python",
   "nbconvert_exporter": "python",
   "pygments_lexer": "ipython3",
   "version": "3.10.8"
  }
 },
 "nbformat": 4,
 "nbformat_minor": 5
}
