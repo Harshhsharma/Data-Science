{
 "cells": [
  {
   "cell_type": "code",
   "execution_count": 27,
   "id": "6ec3034c-fb64-4f55-a682-540f5367da30",
   "metadata": {},
   "outputs": [],
   "source": [
    "l = [2,3,4,5,67.76,'harsh',True]"
   ]
  },
  {
   "cell_type": "code",
   "execution_count": 2,
   "id": "546797af-beb1-4a1b-bdc0-1f91b4c129d5",
   "metadata": {},
   "outputs": [
    {
     "data": {
      "text/plain": [
       "list"
      ]
     },
     "execution_count": 2,
     "metadata": {},
     "output_type": "execute_result"
    }
   ],
   "source": [
    "type(l)"
   ]
  },
  {
   "cell_type": "code",
   "execution_count": 3,
   "id": "4e2519ad-a46b-407f-beee-88a10bbe5489",
   "metadata": {},
   "outputs": [
    {
     "data": {
      "text/plain": [
       "[2, 3, 4, 5, 67.76, True, 2, 3, 4, 5, 67.76, True]"
      ]
     },
     "execution_count": 3,
     "metadata": {},
     "output_type": "execute_result"
    }
   ],
   "source": [
    "l*2"
   ]
  },
  {
   "cell_type": "code",
   "execution_count": 4,
   "id": "230a51db-3364-4de0-8294-b834d6b7b24d",
   "metadata": {},
   "outputs": [
    {
     "data": {
      "text/plain": [
       "[2, 3, 4, 5, 67.76, True, 2, 3, 4, 5, 67.76, True, 2, 3, 4, 5, 67.76, True]"
      ]
     },
     "execution_count": 4,
     "metadata": {},
     "output_type": "execute_result"
    }
   ],
   "source": [
    "l*3"
   ]
  },
  {
   "cell_type": "code",
   "execution_count": 5,
   "id": "bfb1cd88-ffd4-413e-a662-5540afacfbdf",
   "metadata": {},
   "outputs": [],
   "source": [
    "s ='harsh'"
   ]
  },
  {
   "cell_type": "code",
   "execution_count": 6,
   "id": "ffbb669d-fbff-4015-8aca-4de36bfdd189",
   "metadata": {},
   "outputs": [
    {
     "data": {
      "text/plain": [
       "'harshharshharsh'"
      ]
     },
     "execution_count": 6,
     "metadata": {},
     "output_type": "execute_result"
    }
   ],
   "source": [
    "s*3"
   ]
  },
  {
   "cell_type": "code",
   "execution_count": 7,
   "id": "a5c17062-b1ad-4f77-bd55-cd86ad62aa69",
   "metadata": {},
   "outputs": [
    {
     "data": {
      "text/plain": [
       "[2, 3, 4, 5, 67.76, True]"
      ]
     },
     "execution_count": 7,
     "metadata": {},
     "output_type": "execute_result"
    }
   ],
   "source": [
    "l"
   ]
  },
  {
   "cell_type": "code",
   "execution_count": 8,
   "id": "393deb44-bfc2-4883-b3db-866e274931fa",
   "metadata": {},
   "outputs": [],
   "source": [
    "l1 =[3,4,5,6]"
   ]
  },
  {
   "cell_type": "code",
   "execution_count": 9,
   "id": "e0627b0b-6767-4ea3-8f23-7880fed28c0e",
   "metadata": {},
   "outputs": [
    {
     "data": {
      "text/plain": [
       "[2, 3, 4, 5, 67.76, True, 3, 4, 5, 6]"
      ]
     },
     "execution_count": 9,
     "metadata": {},
     "output_type": "execute_result"
    }
   ],
   "source": [
    "l+l1"
   ]
  },
  {
   "cell_type": "code",
   "execution_count": 11,
   "id": "4f1743b9-351a-4180-ab50-da863390e2a1",
   "metadata": {},
   "outputs": [
    {
     "ename": "TypeError",
     "evalue": "can only concatenate list (not \"int\") to list",
     "output_type": "error",
     "traceback": [
      "\u001b[0;31m---------------------------------------------------------------------------\u001b[0m",
      "\u001b[0;31mTypeError\u001b[0m                                 Traceback (most recent call last)",
      "Cell \u001b[0;32mIn[11], line 1\u001b[0m\n\u001b[0;32m----> 1\u001b[0m \u001b[43ml\u001b[49m\u001b[38;5;241;43m+\u001b[39;49m\u001b[38;5;241;43m1\u001b[39;49m \u001b[38;5;66;03m#cant add int in list\u001b[39;00m\n",
      "\u001b[0;31mTypeError\u001b[0m: can only concatenate list (not \"int\") to list"
     ]
    }
   ],
   "source": [
    "l+1 #cant add int in list"
   ]
  },
  {
   "cell_type": "code",
   "execution_count": 12,
   "id": "cf41efed-c5fe-44f7-b273-8309b6522665",
   "metadata": {},
   "outputs": [
    {
     "ename": "TypeError",
     "evalue": "can only concatenate list (not \"str\") to list",
     "output_type": "error",
     "traceback": [
      "\u001b[0;31m---------------------------------------------------------------------------\u001b[0m",
      "\u001b[0;31mTypeError\u001b[0m                                 Traceback (most recent call last)",
      "Cell \u001b[0;32mIn[12], line 1\u001b[0m\n\u001b[0;32m----> 1\u001b[0m \u001b[43ml\u001b[49m\u001b[43m \u001b[49m\u001b[38;5;241;43m+\u001b[39;49m\u001b[43m \u001b[49m\u001b[38;5;124;43m\"\u001b[39;49m\u001b[38;5;124;43mharsh\u001b[39;49m\u001b[38;5;124;43m\"\u001b[39;49m\n",
      "\u001b[0;31mTypeError\u001b[0m: can only concatenate list (not \"str\") to list"
     ]
    }
   ],
   "source": [
    "l + \"harsh\""
   ]
  },
  {
   "cell_type": "code",
   "execution_count": 13,
   "id": "e1a03e39-b041-45f0-b5bc-e1b46bd6ac4b",
   "metadata": {},
   "outputs": [
    {
     "data": {
      "text/plain": [
       "[2, 3, 4, 5, 67.76, True]"
      ]
     },
     "execution_count": 13,
     "metadata": {},
     "output_type": "execute_result"
    }
   ],
   "source": [
    "l"
   ]
  },
  {
   "cell_type": "code",
   "execution_count": 16,
   "id": "e187a39c-2007-4837-a3a6-62b38320deb3",
   "metadata": {},
   "outputs": [
    {
     "data": {
      "text/plain": [
       "6"
      ]
     },
     "execution_count": 16,
     "metadata": {},
     "output_type": "execute_result"
    }
   ],
   "source": [
    "len(l) #for length"
   ]
  },
  {
   "cell_type": "code",
   "execution_count": 22,
   "id": "45072799-a57f-4b2c-9937-de4b81f48ed2",
   "metadata": {},
   "outputs": [
    {
     "data": {
      "text/plain": [
       "'harsh'"
      ]
     },
     "execution_count": 22,
     "metadata": {},
     "output_type": "execute_result"
    }
   ],
   "source": [
    "s"
   ]
  },
  {
   "cell_type": "code",
   "execution_count": 18,
   "id": "9faa0ae9-f52d-4a49-a313-3a121e0860f0",
   "metadata": {},
   "outputs": [
    {
     "data": {
      "text/plain": [
       "5"
      ]
     },
     "execution_count": 18,
     "metadata": {},
     "output_type": "execute_result"
    }
   ],
   "source": [
    "len(s)"
   ]
  },
  {
   "cell_type": "code",
   "execution_count": 20,
   "id": "f7ca1ae3-22f3-462e-a28c-b1a437da34fc",
   "metadata": {},
   "outputs": [
    {
     "data": {
      "text/plain": [
       "False"
      ]
     },
     "execution_count": 20,
     "metadata": {},
     "output_type": "execute_result"
    }
   ],
   "source": [
    "\"harsh\" in l #to check wheather this string is available in list"
   ]
  },
  {
   "cell_type": "code",
   "execution_count": 21,
   "id": "050dd5af-2b22-4817-9b27-b22f3e9c78dd",
   "metadata": {},
   "outputs": [
    {
     "data": {
      "text/plain": [
       "False"
      ]
     },
     "execution_count": 21,
     "metadata": {},
     "output_type": "execute_result"
    }
   ],
   "source": [
    "100 in l"
   ]
  },
  {
   "cell_type": "code",
   "execution_count": 23,
   "id": "1b19b9ab-52a9-4999-903e-3c513415a14c",
   "metadata": {},
   "outputs": [
    {
     "data": {
      "text/plain": [
       "[3, 4, 5, 6]"
      ]
     },
     "execution_count": 23,
     "metadata": {},
     "output_type": "execute_result"
    }
   ],
   "source": [
    "l1"
   ]
  },
  {
   "cell_type": "code",
   "execution_count": 24,
   "id": "b6b1dfbb-e77a-4ed6-b0d0-22a9be1f9d6b",
   "metadata": {},
   "outputs": [
    {
     "data": {
      "text/plain": [
       "6"
      ]
     },
     "execution_count": 24,
     "metadata": {},
     "output_type": "execute_result"
    }
   ],
   "source": [
    "max(l1)"
   ]
  },
  {
   "cell_type": "code",
   "execution_count": 25,
   "id": "dc21e330-f715-4fcc-8222-83871995933a",
   "metadata": {},
   "outputs": [
    {
     "data": {
      "text/plain": [
       "[2, 3, 4, 5, 67.76, True]"
      ]
     },
     "execution_count": 25,
     "metadata": {},
     "output_type": "execute_result"
    }
   ],
   "source": [
    "l"
   ]
  },
  {
   "cell_type": "code",
   "execution_count": 28,
   "id": "6dc1aa67-2d48-43c6-a0d7-9cec5a38139d",
   "metadata": {},
   "outputs": [
    {
     "ename": "TypeError",
     "evalue": "'>' not supported between instances of 'str' and 'float'",
     "output_type": "error",
     "traceback": [
      "\u001b[0;31m---------------------------------------------------------------------------\u001b[0m",
      "\u001b[0;31mTypeError\u001b[0m                                 Traceback (most recent call last)",
      "Cell \u001b[0;32mIn[28], line 1\u001b[0m\n\u001b[0;32m----> 1\u001b[0m \u001b[38;5;28;43mmax\u001b[39;49m\u001b[43m(\u001b[49m\u001b[43ml\u001b[49m\u001b[43m)\u001b[49m\n",
      "\u001b[0;31mTypeError\u001b[0m: '>' not supported between instances of 'str' and 'float'"
     ]
    }
   ],
   "source": [
    "max(l)"
   ]
  },
  {
   "cell_type": "code",
   "execution_count": 29,
   "id": "fcf451ec-83f2-49af-b27f-645a06f11ddf",
   "metadata": {},
   "outputs": [],
   "source": [
    "l2 = ['harsh','sudh','abx']"
   ]
  },
  {
   "cell_type": "code",
   "execution_count": 30,
   "id": "1944d60d-9591-4e08-8948-52bbae9c0f37",
   "metadata": {},
   "outputs": [
    {
     "data": {
      "text/plain": [
       "'sudh'"
      ]
     },
     "execution_count": 30,
     "metadata": {},
     "output_type": "execute_result"
    }
   ],
   "source": [
    "max(l2)"
   ]
  },
  {
   "cell_type": "code",
   "execution_count": 31,
   "id": "5e71b52c-80f5-48cc-88eb-bc51acc42b84",
   "metadata": {},
   "outputs": [],
   "source": [
    "l3 = [True , False]"
   ]
  },
  {
   "cell_type": "code",
   "execution_count": 32,
   "id": "ef37a265-e0d1-40a9-824d-c0dc01e7a3ae",
   "metadata": {},
   "outputs": [
    {
     "data": {
      "text/plain": [
       "True"
      ]
     },
     "execution_count": 32,
     "metadata": {},
     "output_type": "execute_result"
    }
   ],
   "source": [
    "max(l3)"
   ]
  },
  {
   "cell_type": "code",
   "execution_count": 33,
   "id": "5c29672c-5702-44c8-9dfa-4f4493d894c9",
   "metadata": {},
   "outputs": [
    {
     "data": {
      "text/plain": [
       "['harsh', 'sudh', 'abx']"
      ]
     },
     "execution_count": 33,
     "metadata": {},
     "output_type": "execute_result"
    }
   ],
   "source": [
    "l2"
   ]
  },
  {
   "cell_type": "code",
   "execution_count": 41,
   "id": "b0d8d918-e048-4a4f-b82b-be54c8b685cf",
   "metadata": {},
   "outputs": [],
   "source": [
    "l2.append(42) #to add in list but at last"
   ]
  },
  {
   "cell_type": "code",
   "execution_count": 35,
   "id": "3bcd35c5-e0be-4cd0-aa21-fb1b2fb43034",
   "metadata": {},
   "outputs": [
    {
     "data": {
      "text/plain": [
       "['harsh', 'sudh', 'abx', 42]"
      ]
     },
     "execution_count": 35,
     "metadata": {},
     "output_type": "execute_result"
    }
   ],
   "source": [
    "l2"
   ]
  },
  {
   "cell_type": "code",
   "execution_count": 37,
   "id": "a03d15c3-264f-4cdf-97ed-5c48b79e8647",
   "metadata": {},
   "outputs": [],
   "source": [
    "l2.insert(2,'hello')"
   ]
  },
  {
   "cell_type": "code",
   "execution_count": 38,
   "id": "d14847a2-2dfd-4497-970b-2140d64b0e74",
   "metadata": {},
   "outputs": [
    {
     "data": {
      "text/plain": [
       "['harsh', 'sudh', 'hello', 'abx', 42, 42]"
      ]
     },
     "execution_count": 38,
     "metadata": {},
     "output_type": "execute_result"
    }
   ],
   "source": [
    "l2"
   ]
  },
  {
   "cell_type": "code",
   "execution_count": 39,
   "id": "285c752b-87d0-4ec6-b6b8-475ebbbfc847",
   "metadata": {},
   "outputs": [],
   "source": [
    "l2.insert(0,34353)"
   ]
  },
  {
   "cell_type": "code",
   "execution_count": 40,
   "id": "bf6fd9ee-dd1d-48e4-8602-c5a7dbe07995",
   "metadata": {},
   "outputs": [
    {
     "data": {
      "text/plain": [
       "[34353, 'harsh', 'sudh', 'hello', 'abx', 42, 42]"
      ]
     },
     "execution_count": 40,
     "metadata": {},
     "output_type": "execute_result"
    }
   ],
   "source": [
    "l2"
   ]
  },
  {
   "cell_type": "code",
   "execution_count": 45,
   "id": "e69a5a18-b65f-4352-8a0f-3434b34f9c2d",
   "metadata": {},
   "outputs": [
    {
     "data": {
      "text/plain": [
       "'sudh'"
      ]
     },
     "execution_count": 45,
     "metadata": {},
     "output_type": "execute_result"
    }
   ],
   "source": [
    "l2.pop(0) #to remove the data in list "
   ]
  },
  {
   "cell_type": "code",
   "execution_count": 43,
   "id": "173e39d1-d058-427b-85f3-9363acfab665",
   "metadata": {},
   "outputs": [
    {
     "data": {
      "text/plain": [
       "['harsh', 'sudh', 'hello', 'abx', 42, 42, 42]"
      ]
     },
     "execution_count": 43,
     "metadata": {},
     "output_type": "execute_result"
    }
   ],
   "source": [
    "l2"
   ]
  },
  {
   "cell_type": "code",
   "execution_count": 46,
   "id": "17461d53-4d2e-4022-8830-5884559b19ca",
   "metadata": {},
   "outputs": [
    {
     "data": {
      "text/plain": [
       "['hello', 'abx', 42, 42, 42]"
      ]
     },
     "execution_count": 46,
     "metadata": {},
     "output_type": "execute_result"
    }
   ],
   "source": [
    "l2"
   ]
  },
  {
   "cell_type": "code",
   "execution_count": 51,
   "id": "7724059e-3673-44ee-8942-a03e5b516b35",
   "metadata": {},
   "outputs": [
    {
     "data": {
      "text/plain": [
       "['hello', 'abx', 42, 42, 42]"
      ]
     },
     "execution_count": 51,
     "metadata": {},
     "output_type": "execute_result"
    }
   ],
   "source": [
    "l2[::-1] "
   ]
  },
  {
   "cell_type": "code",
   "execution_count": 49,
   "id": "b06fcfd2-b29c-48c5-93ab-a1ff6e475735",
   "metadata": {},
   "outputs": [],
   "source": [
    "l2.reverse() #permanent reverse"
   ]
  },
  {
   "cell_type": "code",
   "execution_count": 50,
   "id": "df1c6851-9fe9-480c-93f8-c17b4c91700a",
   "metadata": {},
   "outputs": [
    {
     "data": {
      "text/plain": [
       "[42, 42, 42, 'abx', 'hello']"
      ]
     },
     "execution_count": 50,
     "metadata": {},
     "output_type": "execute_result"
    }
   ],
   "source": [
    "l2"
   ]
  },
  {
   "cell_type": "code",
   "execution_count": 52,
   "id": "9476226c-744f-4b66-bf0d-6407f63b5436",
   "metadata": {},
   "outputs": [
    {
     "ename": "TypeError",
     "evalue": "'<' not supported between instances of 'str' and 'int'",
     "output_type": "error",
     "traceback": [
      "\u001b[0;31m---------------------------------------------------------------------------\u001b[0m",
      "\u001b[0;31mTypeError\u001b[0m                                 Traceback (most recent call last)",
      "Cell \u001b[0;32mIn[52], line 1\u001b[0m\n\u001b[0;32m----> 1\u001b[0m \u001b[43ml2\u001b[49m\u001b[38;5;241;43m.\u001b[39;49m\u001b[43msort\u001b[49m\u001b[43m(\u001b[49m\u001b[43m)\u001b[49m\n",
      "\u001b[0;31mTypeError\u001b[0m: '<' not supported between instances of 'str' and 'int'"
     ]
    }
   ],
   "source": [
    "l2.sort()"
   ]
  },
  {
   "cell_type": "code",
   "execution_count": 53,
   "id": "a680b4cd-2ce9-43bc-807a-b25f989f00e7",
   "metadata": {},
   "outputs": [
    {
     "data": {
      "text/plain": [
       "[3, 4, 5, 6]"
      ]
     },
     "execution_count": 53,
     "metadata": {},
     "output_type": "execute_result"
    }
   ],
   "source": [
    "l1"
   ]
  },
  {
   "cell_type": "code",
   "execution_count": 54,
   "id": "c7002389-e024-49d0-be5b-1ef65e88bb6f",
   "metadata": {},
   "outputs": [],
   "source": [
    "l1.sort()"
   ]
  },
  {
   "cell_type": "code",
   "execution_count": 55,
   "id": "52f79552-1bc0-4891-a108-c50217ee5515",
   "metadata": {},
   "outputs": [],
   "source": [
    "l4 =[4,5,3,6,9,1]"
   ]
  },
  {
   "cell_type": "code",
   "execution_count": 56,
   "id": "314cb24a-8f35-49fa-b214-fdd0693a7a52",
   "metadata": {},
   "outputs": [],
   "source": [
    "l4.sort()"
   ]
  },
  {
   "cell_type": "code",
   "execution_count": 57,
   "id": "900a7cc8-402e-408d-a379-eb72c3d88562",
   "metadata": {},
   "outputs": [
    {
     "data": {
      "text/plain": [
       "[1, 3, 4, 5, 6, 9]"
      ]
     },
     "execution_count": 57,
     "metadata": {},
     "output_type": "execute_result"
    }
   ],
   "source": [
    "l4"
   ]
  },
  {
   "cell_type": "code",
   "execution_count": 58,
   "id": "90b92ace-bf03-45de-a860-3ab651b13312",
   "metadata": {},
   "outputs": [],
   "source": [
    "l5 = ['harsh','pw','zsde']"
   ]
  },
  {
   "cell_type": "code",
   "execution_count": 60,
   "id": "ed43158e-120c-4b32-8501-9e3f15cb4da5",
   "metadata": {},
   "outputs": [],
   "source": [
    "l5.sort()"
   ]
  },
  {
   "cell_type": "code",
   "execution_count": 61,
   "id": "d9f67391-79d6-457e-94b5-98b4a70331ac",
   "metadata": {},
   "outputs": [
    {
     "data": {
      "text/plain": [
       "['harsh', 'pw', 'zsde']"
      ]
     },
     "execution_count": 61,
     "metadata": {},
     "output_type": "execute_result"
    }
   ],
   "source": [
    "l5"
   ]
  },
  {
   "cell_type": "code",
   "execution_count": 62,
   "id": "364181ce-556b-4beb-8382-f997e517d23b",
   "metadata": {},
   "outputs": [],
   "source": [
    "l5.sort(reverse = True)"
   ]
  },
  {
   "cell_type": "code",
   "execution_count": 63,
   "id": "4cdc197a-883b-4066-8bac-aa667f104df4",
   "metadata": {},
   "outputs": [
    {
     "data": {
      "text/plain": [
       "['zsde', 'pw', 'harsh']"
      ]
     },
     "execution_count": 63,
     "metadata": {},
     "output_type": "execute_result"
    }
   ],
   "source": [
    "l5"
   ]
  },
  {
   "cell_type": "code",
   "execution_count": 64,
   "id": "b19dc64b-7cbe-4561-956d-1105e17efdfe",
   "metadata": {},
   "outputs": [
    {
     "data": {
      "text/plain": [
       "[3, 4, 5, 6]"
      ]
     },
     "execution_count": 64,
     "metadata": {},
     "output_type": "execute_result"
    }
   ],
   "source": [
    "l1"
   ]
  },
  {
   "cell_type": "code",
   "execution_count": 65,
   "id": "725bd79a-11e1-432e-8030-ddcdbcd3d37e",
   "metadata": {},
   "outputs": [
    {
     "data": {
      "text/plain": [
       "[42, 42, 42, 'abx', 'hello']"
      ]
     },
     "execution_count": 65,
     "metadata": {},
     "output_type": "execute_result"
    }
   ],
   "source": [
    "l2"
   ]
  },
  {
   "cell_type": "code",
   "execution_count": 66,
   "id": "55eb3d00-a2a7-4333-b9a2-a96c2ea7bcbb",
   "metadata": {},
   "outputs": [
    {
     "data": {
      "text/plain": [
       "[True, False]"
      ]
     },
     "execution_count": 66,
     "metadata": {},
     "output_type": "execute_result"
    }
   ],
   "source": [
    "l3"
   ]
  },
  {
   "cell_type": "code",
   "execution_count": 67,
   "id": "d345bfc9-6188-4557-8d54-3a7257f0cf20",
   "metadata": {},
   "outputs": [
    {
     "data": {
      "text/plain": [
       "[1, 3, 4, 5, 6, 9]"
      ]
     },
     "execution_count": 67,
     "metadata": {},
     "output_type": "execute_result"
    }
   ],
   "source": [
    "l4"
   ]
  },
  {
   "cell_type": "code",
   "execution_count": 70,
   "id": "088d6880-b89e-4d1f-80ff-54f1dd176a62",
   "metadata": {},
   "outputs": [],
   "source": [
    "l6= [l1,l2] #we can store list in list"
   ]
  },
  {
   "cell_type": "code",
   "execution_count": 69,
   "id": "55c41ed1-6577-43a7-a554-fd6cb61c4832",
   "metadata": {},
   "outputs": [
    {
     "data": {
      "text/plain": [
       "[[3, 4, 5, 6], [42, 42, 42, 'abx', 'hello']]"
      ]
     },
     "execution_count": 69,
     "metadata": {},
     "output_type": "execute_result"
    }
   ],
   "source": [
    "l6"
   ]
  },
  {
   "cell_type": "code",
   "execution_count": 71,
   "id": "3ebedd9c-9f9a-47e7-9aef-5975d2486f6a",
   "metadata": {},
   "outputs": [
    {
     "data": {
      "text/plain": [
       "2"
      ]
     },
     "execution_count": 71,
     "metadata": {},
     "output_type": "execute_result"
    }
   ],
   "source": [
    "len(l6)"
   ]
  },
  {
   "cell_type": "code",
   "execution_count": 72,
   "id": "1f7148c9-ffda-4252-9269-c70b99924d62",
   "metadata": {},
   "outputs": [],
   "source": [
    "l7 = [l1,l2,l3,'harsh',455,67,75,45]"
   ]
  },
  {
   "cell_type": "code",
   "execution_count": 73,
   "id": "05c79e79-a546-4e22-9cac-5767c897e909",
   "metadata": {},
   "outputs": [
    {
     "data": {
      "text/plain": [
       "[[3, 4, 5, 6],\n",
       " [42, 42, 42, 'abx', 'hello'],\n",
       " [True, False],\n",
       " 'harsh',\n",
       " 455,\n",
       " 67,\n",
       " 75,\n",
       " 45]"
      ]
     },
     "execution_count": 73,
     "metadata": {},
     "output_type": "execute_result"
    }
   ],
   "source": [
    "l7"
   ]
  },
  {
   "cell_type": "code",
   "execution_count": 76,
   "id": "445b2c4f-9450-4de3-9909-bc732db21be6",
   "metadata": {},
   "outputs": [
    {
     "data": {
      "text/plain": [
       "[42, 42, 42, 'abx', 'hello']"
      ]
     },
     "execution_count": 76,
     "metadata": {},
     "output_type": "execute_result"
    }
   ],
   "source": [
    "l7[1]"
   ]
  },
  {
   "cell_type": "code",
   "execution_count": 77,
   "id": "ab858102-98be-4cdc-8adf-968951c157c5",
   "metadata": {},
   "outputs": [
    {
     "data": {
      "text/plain": [
       "'abx'"
      ]
     },
     "execution_count": 77,
     "metadata": {},
     "output_type": "execute_result"
    }
   ],
   "source": [
    "l7[1][3]"
   ]
  },
  {
   "cell_type": "code",
   "execution_count": null,
   "id": "73b35179-dd64-42d8-a942-159a8ab438f6",
   "metadata": {},
   "outputs": [],
   "source": []
  }
 ],
 "metadata": {
  "kernelspec": {
   "display_name": "Python 3 (ipykernel)",
   "language": "python",
   "name": "python3"
  },
  "language_info": {
   "codemirror_mode": {
    "name": "ipython",
    "version": 3
   },
   "file_extension": ".py",
   "mimetype": "text/x-python",
   "name": "python",
   "nbconvert_exporter": "python",
   "pygments_lexer": "ipython3",
   "version": "3.10.8"
  }
 },
 "nbformat": 4,
 "nbformat_minor": 5
}
