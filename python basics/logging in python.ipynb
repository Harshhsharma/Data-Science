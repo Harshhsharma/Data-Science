{
 "cells": [
  {
   "cell_type": "code",
   "execution_count": 21,
   "id": "e9149929-041a-42e0-a671-dc69235271c8",
   "metadata": {},
   "outputs": [
    {
     "name": "stdout",
     "output_type": "stream",
     "text": [
      "this is my print\n"
     ]
    }
   ],
   "source": [
    "print(\"this is my print\")"
   ]
  },
  {
   "cell_type": "code",
   "execution_count": 22,
   "id": "9098ba87-7fbf-42f6-a491-04b404c2263e",
   "metadata": {},
   "outputs": [],
   "source": [
    "import logging"
   ]
  },
  {
   "cell_type": "code",
   "execution_count": 23,
   "id": "8c6a66d0-6775-41a7-bb9e-83a5a909e7b2",
   "metadata": {},
   "outputs": [],
   "source": [
    "logging.basicConfig(filename = \"test.log\",level = logging.INFO)"
   ]
  },
  {
   "cell_type": "code",
   "execution_count": 24,
   "id": "1b8831b5-7c3a-4ed8-8453-0bea28b00b45",
   "metadata": {},
   "outputs": [],
   "source": [
    "logging.info(\"log this on\")"
   ]
  },
  {
   "cell_type": "code",
   "execution_count": 25,
   "id": "cdea7a06-a6c4-4259-9e11-261efd8cc899",
   "metadata": {},
   "outputs": [],
   "source": [
    "logging.info(\"this is my primy\")"
   ]
  },
  {
   "cell_type": "markdown",
   "id": "f85d7ba9-09ce-444d-8ed9-f7bc69436c4a",
   "metadata": {},
   "source": [
    "1 NOTSET\n",
    "2 DEBUG\n",
    "3 INFO\n",
    "4 WARNING\n",
    "5 ERROR\n",
    "6 CRITICAL"
   ]
  },
  {
   "cell_type": "code",
   "execution_count": 26,
   "id": "d980e201-d749-4653-a031-6326a5b8097a",
   "metadata": {},
   "outputs": [],
   "source": [
    "logging.debug(\"hello\")"
   ]
  },
  {
   "cell_type": "code",
   "execution_count": 27,
   "id": "c72cd07a-0046-4863-8afe-b0ee6cd59481",
   "metadata": {},
   "outputs": [],
   "source": [
    "logging.warning(\"tgis is my warning message\")"
   ]
  },
  {
   "cell_type": "code",
   "execution_count": 28,
   "id": "fc7f3906-d08c-41bc-9bfb-15ad80e10adb",
   "metadata": {},
   "outputs": [],
   "source": [
    "logging.error(\"error\")"
   ]
  },
  {
   "cell_type": "code",
   "execution_count": 29,
   "id": "d6e3a8ee-59e4-4a5f-932b-ed8f9a5b851e",
   "metadata": {},
   "outputs": [],
   "source": [
    "logging.critical(\"this is serious\")"
   ]
  },
  {
   "cell_type": "code",
   "execution_count": 30,
   "id": "3e4a4956-f253-4588-b4ad-3499af22c466",
   "metadata": {},
   "outputs": [],
   "source": [
    "logging.shutdown()"
   ]
  },
  {
   "cell_type": "code",
   "execution_count": 31,
   "id": "fa67cc61-2364-452a-b929-e7649b52a03b",
   "metadata": {},
   "outputs": [],
   "source": [
    "import logging"
   ]
  },
  {
   "cell_type": "code",
   "execution_count": 32,
   "id": "2c625d7e-494c-4f13-b6a3-76cba94252b4",
   "metadata": {},
   "outputs": [],
   "source": [
    "logging.info(\"this is my mesage\")\n",
    "logging.error(\"this is error\")\n",
    "logging.critical(\"this is serious\")"
   ]
  },
  {
   "cell_type": "code",
   "execution_count": 33,
   "id": "55222e03-2044-4306-ae8c-de0b0337e0bb",
   "metadata": {},
   "outputs": [],
   "source": [
    "logging.shutdown()"
   ]
  },
  {
   "cell_type": "code",
   "execution_count": 34,
   "id": "0d8211a7-9e47-49b7-a4c9-9c87bb13e260",
   "metadata": {},
   "outputs": [],
   "source": [
    "import logging"
   ]
  },
  {
   "cell_type": "code",
   "execution_count": 35,
   "id": "4ea5c64c-edd3-40be-9f12-9ff0f4807787",
   "metadata": {},
   "outputs": [],
   "source": [
    "logging.basicConfig(filename = 'test3.log',level = logging.DEBUG,format = '%(asctime)s %(name)s %(message)s')"
   ]
  },
  {
   "cell_type": "code",
   "execution_count": 36,
   "id": "629ee2a1-76ad-4982-8db8-ef06d61d2be5",
   "metadata": {},
   "outputs": [],
   "source": [
    "logging.info(\"this is my mesage\")\n",
    "logging.error(\"tshis is error\")\n",
    "logging.critical(\"this is serious\")"
   ]
  },
  {
   "cell_type": "code",
   "execution_count": 42,
   "id": "919f1a08-e3f6-49ac-87f6-e4e7014b6114",
   "metadata": {},
   "outputs": [],
   "source": [
    "l =[1,2,3,4,5,6,[2,3,4],[\"harsg\",\"ashu\"]]"
   ]
  },
  {
   "cell_type": "code",
   "execution_count": 43,
   "id": "38724051-4db4-458c-8931-cc4f0bd4e56b",
   "metadata": {},
   "outputs": [],
   "source": [
    "import logging"
   ]
  },
  {
   "cell_type": "code",
   "execution_count": 48,
   "id": "ffb67094-cb05-4c03-b98e-1444f5eb2778",
   "metadata": {},
   "outputs": [],
   "source": [
    "l1_int =[]\n",
    "l2_str =[]\n",
    "for i in l:\n",
    "    logging.info(\"we are iteratingh through our list andf our local variable var is {}\".format(l))\n",
    "    if type(i)==list:\n",
    "        logging.info(\"i am inside if statement and i am trying to check list\")\n",
    "        for j in i:\n",
    "            logging.info(\"i am in another for loop  for list inside the element\") \n",
    "            if type(j)==int:\n",
    "                l1_int.append(j)\n",
    "    elif type(i)== int :\n",
    "        l1_int.append(i)\n",
    "    else:\n",
    "        if type(i) == str:\n",
    "            l2_str.append(i)\n",
    "logging.info(\"my final result for int is{l1} and str is {l2}\".format(l1 = l1_int , l2 = l2_str))"
   ]
  },
  {
   "cell_type": "code",
   "execution_count": null,
   "id": "51c487fa-0300-4da9-9091-287bd6b3a76b",
   "metadata": {},
   "outputs": [],
   "source": []
  }
 ],
 "metadata": {
  "kernelspec": {
   "display_name": "Python 3 (ipykernel)",
   "language": "python",
   "name": "python3"
  },
  "language_info": {
   "codemirror_mode": {
    "name": "ipython",
    "version": 3
   },
   "file_extension": ".py",
   "mimetype": "text/x-python",
   "name": "python",
   "nbconvert_exporter": "python",
   "pygments_lexer": "ipython3",
   "version": "3.10.8"
  }
 },
 "nbformat": 4,
 "nbformat_minor": 5
}
