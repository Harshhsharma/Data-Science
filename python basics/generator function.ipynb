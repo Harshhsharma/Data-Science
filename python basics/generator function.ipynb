{
 "cells": [
  {
   "cell_type": "code",
   "execution_count": 1,
   "id": "8d5ed242-7273-4716-803d-732f8edd150f",
   "metadata": {},
   "outputs": [
    {
     "data": {
      "text/plain": [
       "range(0, 10)"
      ]
     },
     "execution_count": 1,
     "metadata": {},
     "output_type": "execute_result"
    }
   ],
   "source": [
    "range(10)"
   ]
  },
  {
   "cell_type": "code",
   "execution_count": 3,
   "id": "9bd795e3-8e82-43f2-8141-cbbc8b4efedf",
   "metadata": {},
   "outputs": [
    {
     "name": "stdout",
     "output_type": "stream",
     "text": [
      "0\n",
      "1\n",
      "2\n",
      "3\n",
      "4\n",
      "5\n",
      "6\n",
      "7\n",
      "8\n",
      "9\n"
     ]
    }
   ],
   "source": [
    "for i in range(10):\n",
    "    print(i)"
   ]
  },
  {
   "cell_type": "code",
   "execution_count": 7,
   "id": "04722863-9163-4e4b-8295-bdaa44a2bda2",
   "metadata": {},
   "outputs": [],
   "source": [
    "def test_fibo(n):\n",
    "    a,b = 0,1\n",
    "    for i in range(n):\n",
    "        yield a\n",
    "        a,b = b ,a+b    # here a=b and b = a+b"
   ]
  },
  {
   "cell_type": "code",
   "execution_count": 5,
   "id": "ed9fc9e2-600b-4f4d-a64d-5f8325208772",
   "metadata": {},
   "outputs": [
    {
     "data": {
      "text/plain": [
       "<generator object test_fibo at 0x7f3f164d1540>"
      ]
     },
     "execution_count": 5,
     "metadata": {},
     "output_type": "execute_result"
    }
   ],
   "source": [
    "test_fibo(10)"
   ]
  },
  {
   "cell_type": "code",
   "execution_count": 6,
   "id": "d7dabdd4-ac94-4096-b00a-9745fbc660de",
   "metadata": {},
   "outputs": [
    {
     "name": "stdout",
     "output_type": "stream",
     "text": [
      "0\n",
      "1\n",
      "1\n",
      "2\n",
      "3\n",
      "5\n",
      "8\n",
      "13\n",
      "21\n",
      "34\n"
     ]
    }
   ],
   "source": [
    "for i in test_fibo(10):\n",
    "    print(i)"
   ]
  },
  {
   "cell_type": "code",
   "execution_count": 13,
   "id": "0abb7fbd-3351-470c-b646-af27c9f1171a",
   "metadata": {},
   "outputs": [],
   "source": [
    "def test_fibo1():\n",
    "    a,b = 0,1\n",
    "    while True:\n",
    "        yield a\n",
    "        a,b = b ,a+b"
   ]
  },
  {
   "cell_type": "code",
   "execution_count": 14,
   "id": "cc68d1c6-012b-4976-a65e-b1f9b260c388",
   "metadata": {},
   "outputs": [],
   "source": [
    "fibo = test_fibo1()"
   ]
  },
  {
   "cell_type": "code",
   "execution_count": 16,
   "id": "1028a3b3-960b-47e0-8c03-96a91e234d95",
   "metadata": {},
   "outputs": [
    {
     "name": "stdout",
     "output_type": "stream",
     "text": [
      "0\n",
      "1\n",
      "1\n",
      "2\n",
      "3\n",
      "5\n",
      "8\n",
      "13\n",
      "21\n",
      "34\n"
     ]
    }
   ],
   "source": [
    "for i in range(10):\n",
    "    print(next(fibo)) # next "
   ]
  },
  {
   "cell_type": "code",
   "execution_count": 17,
   "id": "e6b4f567-6a7a-4e44-b164-78da8b52565f",
   "metadata": {},
   "outputs": [],
   "source": [
    "s = \"harsh\""
   ]
  },
  {
   "cell_type": "code",
   "execution_count": 18,
   "id": "52dd96f6-2c72-42f5-b190-5f7d934f42c9",
   "metadata": {},
   "outputs": [
    {
     "ename": "TypeError",
     "evalue": "'str' object is not an iterator",
     "output_type": "error",
     "traceback": [
      "\u001b[0;31m---------------------------------------------------------------------------\u001b[0m",
      "\u001b[0;31mTypeError\u001b[0m                                 Traceback (most recent call last)",
      "Cell \u001b[0;32mIn[18], line 1\u001b[0m\n\u001b[0;32m----> 1\u001b[0m \u001b[38;5;28;43mnext\u001b[39;49m\u001b[43m(\u001b[49m\u001b[43ms\u001b[49m\u001b[43m)\u001b[49m\n",
      "\u001b[0;31mTypeError\u001b[0m: 'str' object is not an iterator"
     ]
    }
   ],
   "source": [
    "next(s)"
   ]
  },
  {
   "cell_type": "code",
   "execution_count": 19,
   "id": "fe3483cb-8d33-463b-a1a6-a1ba7e24fef2",
   "metadata": {},
   "outputs": [],
   "source": [
    "s1 = iter(s)"
   ]
  },
  {
   "cell_type": "code",
   "execution_count": 20,
   "id": "ba2b44a4-6ebe-4e4e-88e5-1584fa33cd3b",
   "metadata": {},
   "outputs": [
    {
     "data": {
      "text/plain": [
       "str_iterator"
      ]
     },
     "execution_count": 20,
     "metadata": {},
     "output_type": "execute_result"
    }
   ],
   "source": [
    "type(s1)"
   ]
  },
  {
   "cell_type": "code",
   "execution_count": 21,
   "id": "3fec796f-9f58-4570-8314-f2d19d652e70",
   "metadata": {},
   "outputs": [
    {
     "data": {
      "text/plain": [
       "'h'"
      ]
     },
     "execution_count": 21,
     "metadata": {},
     "output_type": "execute_result"
    }
   ],
   "source": [
    "next(s1)"
   ]
  },
  {
   "cell_type": "code",
   "execution_count": 22,
   "id": "1cb26254-4266-4785-8693-ea0da42426c1",
   "metadata": {},
   "outputs": [
    {
     "data": {
      "text/plain": [
       "'a'"
      ]
     },
     "execution_count": 22,
     "metadata": {},
     "output_type": "execute_result"
    }
   ],
   "source": [
    "next(s1)"
   ]
  },
  {
   "cell_type": "code",
   "execution_count": 23,
   "id": "b1a3da71-48a6-4302-9673-599e4f341370",
   "metadata": {},
   "outputs": [
    {
     "data": {
      "text/plain": [
       "'r'"
      ]
     },
     "execution_count": 23,
     "metadata": {},
     "output_type": "execute_result"
    }
   ],
   "source": [
    "next(s1)"
   ]
  },
  {
   "cell_type": "code",
   "execution_count": 24,
   "id": "57258f97-e7c4-420d-ab84-3f7d5867d236",
   "metadata": {},
   "outputs": [
    {
     "ename": "TypeError",
     "evalue": "'int' object is not an iterator",
     "output_type": "error",
     "traceback": [
      "\u001b[0;31m---------------------------------------------------------------------------\u001b[0m",
      "\u001b[0;31mTypeError\u001b[0m                                 Traceback (most recent call last)",
      "Cell \u001b[0;32mIn[24], line 1\u001b[0m\n\u001b[0;32m----> 1\u001b[0m \u001b[38;5;28;43mnext\u001b[39;49m\u001b[43m(\u001b[49m\u001b[38;5;241;43m43\u001b[39;49m\u001b[43m)\u001b[49m\n",
      "\u001b[0;31mTypeError\u001b[0m: 'int' object is not an iterator"
     ]
    }
   ],
   "source": [
    "next(43)"
   ]
  },
  {
   "cell_type": "markdown",
   "id": "54eb8950-67eb-4dc2-bdce-53095d64100e",
   "metadata": {},
   "source": [
    "yield keyword is used for genator function"
   ]
  },
  {
   "cell_type": "code",
   "execution_count": 25,
   "id": "c3ca37d2-10b3-4f46-9fa9-5316f80d4d6a",
   "metadata": {},
   "outputs": [],
   "source": [
    "def count1(n):\n",
    "    count = 1\n",
    "    while count<n :\n",
    "        yield count\n",
    "        count = count + 1"
   ]
  },
  {
   "cell_type": "code",
   "execution_count": 26,
   "id": "4e9d31d6-6652-41a5-8228-057836292de0",
   "metadata": {},
   "outputs": [],
   "source": [
    "c = count1(5)"
   ]
  },
  {
   "cell_type": "code",
   "execution_count": 27,
   "id": "606b6811-bb2c-49b2-83f6-e5af9d335d58",
   "metadata": {},
   "outputs": [
    {
     "name": "stdout",
     "output_type": "stream",
     "text": [
      "1\n",
      "2\n",
      "3\n",
      "4\n"
     ]
    }
   ],
   "source": [
    "for i in c:\n",
    "    print(i)"
   ]
  },
  {
   "cell_type": "code",
   "execution_count": null,
   "id": "d5190913-b2ad-48e1-97d6-3baf6187e0c3",
   "metadata": {},
   "outputs": [],
   "source": []
  }
 ],
 "metadata": {
  "kernelspec": {
   "display_name": "Python 3 (ipykernel)",
   "language": "python",
   "name": "python3"
  },
  "language_info": {
   "codemirror_mode": {
    "name": "ipython",
    "version": 3
   },
   "file_extension": ".py",
   "mimetype": "text/x-python",
   "name": "python",
   "nbconvert_exporter": "python",
   "pygments_lexer": "ipython3",
   "version": "3.10.8"
  }
 },
 "nbformat": 4,
 "nbformat_minor": 5
}
