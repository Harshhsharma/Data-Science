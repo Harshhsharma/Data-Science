{
 "cells": [
  {
   "cell_type": "code",
   "execution_count": 1,
   "id": "d1c06c1c-c0af-4c15-bc6c-2ac0306e1911",
   "metadata": {},
   "outputs": [
    {
     "name": "stdout",
     "output_type": "stream",
     "text": [
      "hello\n"
     ]
    }
   ],
   "source": [
    "print(\"hello\")"
   ]
  },
  {
   "cell_type": "code",
   "execution_count": 2,
   "id": "454c69c2-31e5-44cd-9276-998fc5aadec0",
   "metadata": {},
   "outputs": [],
   "source": [
    "l = [45,56,6,7,8]"
   ]
  },
  {
   "cell_type": "code",
   "execution_count": 5,
   "id": "bd4263a6-8a48-410c-a717-11e641388c69",
   "metadata": {},
   "outputs": [
    {
     "data": {
      "text/plain": [
       "5"
      ]
     },
     "execution_count": 5,
     "metadata": {},
     "output_type": "execute_result"
    }
   ],
   "source": [
    "len(l)"
   ]
  },
  {
   "cell_type": "code",
   "execution_count": 6,
   "id": "1261e5b9-6248-433a-a9e6-7f3893b95ffb",
   "metadata": {},
   "outputs": [],
   "source": [
    "def test():\n",
    "    pass"
   ]
  },
  {
   "cell_type": "code",
   "execution_count": 7,
   "id": "843ded7b-e904-4473-9be0-2c8e5f56abb9",
   "metadata": {},
   "outputs": [],
   "source": [
    "def test1():\n",
    "    print(\"first function\")"
   ]
  },
  {
   "cell_type": "code",
   "execution_count": 9,
   "id": "223c41f5-3737-463b-9b71-760a3fc45bdd",
   "metadata": {},
   "outputs": [
    {
     "name": "stdout",
     "output_type": "stream",
     "text": [
      "first function\n"
     ]
    },
    {
     "ename": "TypeError",
     "evalue": "unsupported operand type(s) for +: 'NoneType' and 'str'",
     "output_type": "error",
     "traceback": [
      "\u001b[0;31m---------------------------------------------------------------------------\u001b[0m",
      "\u001b[0;31mTypeError\u001b[0m                                 Traceback (most recent call last)",
      "Cell \u001b[0;32mIn[9], line 1\u001b[0m\n\u001b[0;32m----> 1\u001b[0m \u001b[43mtest1\u001b[49m\u001b[43m(\u001b[49m\u001b[43m)\u001b[49m\u001b[43m \u001b[49m\u001b[38;5;241;43m+\u001b[39;49m\u001b[43m \u001b[49m\u001b[38;5;124;43m\"\u001b[39;49m\u001b[38;5;124;43mharsh\u001b[39;49m\u001b[38;5;124;43m\"\u001b[39;49m\n",
      "\u001b[0;31mTypeError\u001b[0m: unsupported operand type(s) for +: 'NoneType' and 'str'"
     ]
    }
   ],
   "source": [
    "test1() + \"harsh\""
   ]
  },
  {
   "cell_type": "code",
   "execution_count": 10,
   "id": "c5a4ff26-75e1-4535-9faa-40c4ac197c7f",
   "metadata": {},
   "outputs": [],
   "source": [
    "def test2():\n",
    "    return \"my first return\""
   ]
  },
  {
   "cell_type": "code",
   "execution_count": 13,
   "id": "63e2c57f-f00b-4a9a-b227-346059f1e11d",
   "metadata": {},
   "outputs": [
    {
     "data": {
      "text/plain": [
       "'my first return hello'"
      ]
     },
     "execution_count": 13,
     "metadata": {},
     "output_type": "execute_result"
    }
   ],
   "source": [
    "test2() +\" hello\""
   ]
  },
  {
   "cell_type": "code",
   "execution_count": 14,
   "id": "174b3963-b0f1-4197-846c-e8d8abe3c54b",
   "metadata": {},
   "outputs": [],
   "source": [
    "def test3():\n",
    "    return \"harsh\",23,4,5,6,[5,4,5,6,4]"
   ]
  },
  {
   "cell_type": "code",
   "execution_count": 20,
   "id": "3188c3c7-50c0-4c33-a34a-b6557ad862f2",
   "metadata": {},
   "outputs": [
    {
     "data": {
      "text/plain": [
       "('harsh', 23, 4, 5, 6, [5, 4, 5, 6, 4])"
      ]
     },
     "execution_count": 20,
     "metadata": {},
     "output_type": "execute_result"
    }
   ],
   "source": [
    "test3()"
   ]
  },
  {
   "cell_type": "code",
   "execution_count": 22,
   "id": "dae5017b-d549-448e-a1d2-43b4e85d42d8",
   "metadata": {},
   "outputs": [],
   "source": [
    "a,v,b,c,f,g = test3()"
   ]
  },
  {
   "cell_type": "code",
   "execution_count": 23,
   "id": "7334d210-4032-4020-b196-0183450af812",
   "metadata": {},
   "outputs": [
    {
     "data": {
      "text/plain": [
       "5"
      ]
     },
     "execution_count": 23,
     "metadata": {},
     "output_type": "execute_result"
    }
   ],
   "source": [
    "c"
   ]
  },
  {
   "cell_type": "code",
   "execution_count": 24,
   "id": "32d812ef-0611-4f5c-a03d-de1c2906bf22",
   "metadata": {},
   "outputs": [
    {
     "data": {
      "text/plain": [
       "[5, 4, 5, 6, 4]"
      ]
     },
     "execution_count": 24,
     "metadata": {},
     "output_type": "execute_result"
    }
   ],
   "source": [
    "g"
   ]
  },
  {
   "cell_type": "code",
   "execution_count": 25,
   "id": "e27c3b72-3dbd-446b-8b82-1075d6a72af8",
   "metadata": {},
   "outputs": [],
   "source": [
    "a =1\n",
    "b =2"
   ]
  },
  {
   "cell_type": "code",
   "execution_count": 26,
   "id": "bbfa5ae1-9bcc-4cf2-866d-6f27913bfc3c",
   "metadata": {},
   "outputs": [],
   "source": [
    "a,b = 1,2"
   ]
  },
  {
   "cell_type": "code",
   "execution_count": 27,
   "id": "ae6b962d-5e16-4b54-935a-b0729770601d",
   "metadata": {},
   "outputs": [],
   "source": [
    "def test4():\n",
    "    a =5+6/8\n",
    "    return a"
   ]
  },
  {
   "cell_type": "code",
   "execution_count": 28,
   "id": "7f94acc8-4025-45eb-a450-0043db04559e",
   "metadata": {},
   "outputs": [
    {
     "data": {
      "text/plain": [
       "5.75"
      ]
     },
     "execution_count": 28,
     "metadata": {},
     "output_type": "execute_result"
    }
   ],
   "source": [
    "test4()"
   ]
  },
  {
   "cell_type": "code",
   "execution_count": 29,
   "id": "58c5f70c-165e-4228-9e9b-dd4a151109ab",
   "metadata": {},
   "outputs": [],
   "source": [
    "def test5(a,b,c):\n",
    "    d = a+b/c\n",
    "    return d;"
   ]
  },
  {
   "cell_type": "code",
   "execution_count": 30,
   "id": "0efdd7ff-9344-4180-baf6-8effb2ea6bf9",
   "metadata": {},
   "outputs": [
    {
     "ename": "TypeError",
     "evalue": "test5() missing 3 required positional arguments: 'a', 'b', and 'c'",
     "output_type": "error",
     "traceback": [
      "\u001b[0;31m---------------------------------------------------------------------------\u001b[0m",
      "\u001b[0;31mTypeError\u001b[0m                                 Traceback (most recent call last)",
      "Cell \u001b[0;32mIn[30], line 1\u001b[0m\n\u001b[0;32m----> 1\u001b[0m \u001b[43mtest5\u001b[49m\u001b[43m(\u001b[49m\u001b[43m)\u001b[49m\n",
      "\u001b[0;31mTypeError\u001b[0m: test5() missing 3 required positional arguments: 'a', 'b', and 'c'"
     ]
    }
   ],
   "source": [
    "test5()"
   ]
  },
  {
   "cell_type": "code",
   "execution_count": 31,
   "id": "4b81af4f-e83e-42d2-8dc0-e181fbc1fd47",
   "metadata": {},
   "outputs": [
    {
     "data": {
      "text/plain": [
       "3.6666666666666665"
      ]
     },
     "execution_count": 31,
     "metadata": {},
     "output_type": "execute_result"
    }
   ],
   "source": [
    "test5(3,4,6)"
   ]
  },
  {
   "cell_type": "code",
   "execution_count": 32,
   "id": "6655963b-59c1-474e-9e60-793f334e41bf",
   "metadata": {},
   "outputs": [],
   "source": [
    "def test6(a,b):\n",
    "    return a+b"
   ]
  },
  {
   "cell_type": "code",
   "execution_count": 33,
   "id": "11eff50e-cde4-4150-8935-44bc549bd863",
   "metadata": {},
   "outputs": [
    {
     "data": {
      "text/plain": [
       "14"
      ]
     },
     "execution_count": 33,
     "metadata": {},
     "output_type": "execute_result"
    }
   ],
   "source": [
    "test6(6,8)"
   ]
  },
  {
   "cell_type": "code",
   "execution_count": 36,
   "id": "64d252ba-1e99-4958-9203-32720267f5bb",
   "metadata": {},
   "outputs": [
    {
     "data": {
      "text/plain": [
       "'harsh sharma'"
      ]
     },
     "execution_count": 36,
     "metadata": {},
     "output_type": "execute_result"
    }
   ],
   "source": [
    "test6(\"harsh\",\" sharma\")"
   ]
  },
  {
   "cell_type": "code",
   "execution_count": 37,
   "id": "d4cc6848-790f-4092-b147-6fb075105d5e",
   "metadata": {},
   "outputs": [
    {
     "data": {
      "text/plain": [
       "[1, 2, 3, 4, 5, 6, 7, 8, 9]"
      ]
     },
     "execution_count": 37,
     "metadata": {},
     "output_type": "execute_result"
    }
   ],
   "source": [
    "test6([1,2,3,4,5],[6,7,8,9])"
   ]
  },
  {
   "cell_type": "code",
   "execution_count": 16,
   "id": "7c18a35d-7e54-45cc-93ac-06a0e3d08e69",
   "metadata": {},
   "outputs": [],
   "source": [
    "l = [1,2,3,45,\"harsh\",\"kumar\",[1,2,3,4,6]]"
   ]
  },
  {
   "cell_type": "code",
   "execution_count": 17,
   "id": "c30e7138-931d-4b08-945b-24f7085d7a64",
   "metadata": {},
   "outputs": [],
   "source": [
    "\n",
    "    l1=[]\n",
    "    for i in l:\n",
    "        if type(i) == int or type(i) == float:\n",
    "            l1.append(i)\n",
    "\n"
   ]
  },
  {
   "cell_type": "code",
   "execution_count": 50,
   "id": "fa395ad3-0524-49fc-9538-453a9ac461e8",
   "metadata": {},
   "outputs": [
    {
     "data": {
      "text/plain": [
       "[1, 2, 3, 45]"
      ]
     },
     "execution_count": 50,
     "metadata": {},
     "output_type": "execute_result"
    }
   ],
   "source": [
    "l1"
   ]
  },
  {
   "cell_type": "code",
   "execution_count": 18,
   "id": "f455fd0e-c12f-45f1-b19e-4ef809a103ca",
   "metadata": {},
   "outputs": [
    {
     "data": {
      "text/plain": [
       "[1, 2, 3, 45, 'harsh', 'kumar', [1, 2, 3, 4, 6]]"
      ]
     },
     "execution_count": 18,
     "metadata": {},
     "output_type": "execute_result"
    }
   ],
   "source": [
    "l"
   ]
  },
  {
   "cell_type": "code",
   "execution_count": 9,
   "id": "129e6d1b-f919-4c9b-8ba8-a9e38e7bc7c1",
   "metadata": {},
   "outputs": [],
   "source": [
    "def test7(l):\n",
    "    l1=[]\n",
    "    for i in l:\n",
    "        if type(i) == int or type(i) == float:\n",
    "            l1.append(i)\n",
    "    return l1\n",
    "    "
   ]
  },
  {
   "cell_type": "code",
   "execution_count": 19,
   "id": "71e26b39-22e0-4171-be56-6a6ec2e1d9b1",
   "metadata": {},
   "outputs": [
    {
     "data": {
      "text/plain": [
       "[1, 2, 3, 45]"
      ]
     },
     "execution_count": 19,
     "metadata": {},
     "output_type": "execute_result"
    }
   ],
   "source": [
    "test7(l)"
   ]
  },
  {
   "cell_type": "code",
   "execution_count": 20,
   "id": "68b108ff-ea7d-40c6-92a4-6100147d2fd9",
   "metadata": {},
   "outputs": [
    {
     "data": {
      "text/plain": [
       "[1, 2, 3, 45, 'harsh', 'kumar', [1, 2, 3, 4, 6]]"
      ]
     },
     "execution_count": 20,
     "metadata": {},
     "output_type": "execute_result"
    }
   ],
   "source": [
    "l"
   ]
  },
  {
   "cell_type": "code",
   "execution_count": 21,
   "id": "49923932-e482-4c38-821d-0b9837e37e5b",
   "metadata": {},
   "outputs": [],
   "source": [
    "def test8(a):\n",
    "    l = []\n",
    "    for i in a :\n",
    "        if type (i) == list:\n",
    "            for j in i :\n",
    "                l.append(j)\n",
    "        else:\n",
    "            if type(i) == int or type(i)==float:\n",
    "                l.append(i)\n",
    "        return l        "
   ]
  },
  {
   "cell_type": "code",
   "execution_count": 22,
   "id": "66293a7d-0e42-49c4-8f22-6ff389bc2def",
   "metadata": {},
   "outputs": [
    {
     "data": {
      "text/plain": [
       "[1]"
      ]
     },
     "execution_count": 22,
     "metadata": {},
     "output_type": "execute_result"
    }
   ],
   "source": [
    "test8(l)"
   ]
  },
  {
   "cell_type": "code",
   "execution_count": 23,
   "id": "d6d54304-b7f2-4098-a7e5-81384afee586",
   "metadata": {},
   "outputs": [
    {
     "data": {
      "text/plain": [
       "[1]"
      ]
     },
     "execution_count": 23,
     "metadata": {},
     "output_type": "execute_result"
    }
   ],
   "source": [
    "test8(l)"
   ]
  },
  {
   "cell_type": "code",
   "execution_count": 24,
   "id": "e8d608bd-e10f-4f11-a90f-b2ebcdfe38ad",
   "metadata": {},
   "outputs": [
    {
     "data": {
      "text/plain": [
       "[1, 2, 3, 45, 'harsh', 'kumar', [1, 2, 3, 4, 6]]"
      ]
     },
     "execution_count": 24,
     "metadata": {},
     "output_type": "execute_result"
    }
   ],
   "source": [
    "l"
   ]
  },
  {
   "cell_type": "code",
   "execution_count": 25,
   "id": "775c47cd-6a4e-4c89-857e-cf8d5c2dbfb0",
   "metadata": {},
   "outputs": [],
   "source": [
    "def test9(a):\n",
    "    \"\"\" this is the function to extract a numeric data\"\"\"\n",
    "    l = []\n",
    "    for i in a :\n",
    "        if type (i) == list:\n",
    "            for j in i :\n",
    "                l.append(j)\n",
    "        else:\n",
    "            if type(i) == int or type(i)==float:\n",
    "                l.append(i)\n",
    "        return l        "
   ]
  },
  {
   "cell_type": "code",
   "execution_count": null,
   "id": "049961a4-6559-41ff-b1f5-e9de74f6c60f",
   "metadata": {},
   "outputs": [],
   "source": [
    "test9()"
   ]
  },
  {
   "cell_type": "code",
   "execution_count": 26,
   "id": "0cac134c-807b-4507-8c5c-97fb4651c47b",
   "metadata": {},
   "outputs": [],
   "source": [
    "def test10(*args):\n",
    "    return args\n",
    "    "
   ]
  },
  {
   "cell_type": "code",
   "execution_count": 27,
   "id": "feec0b81-0760-4f9a-82af-48e710cb4048",
   "metadata": {},
   "outputs": [
    {
     "data": {
      "text/plain": [
       "tuple"
      ]
     },
     "execution_count": 27,
     "metadata": {},
     "output_type": "execute_result"
    }
   ],
   "source": [
    "type(test10())"
   ]
  },
  {
   "cell_type": "code",
   "execution_count": 28,
   "id": "9fd86843-ea82-4ad5-a867-454c664243d2",
   "metadata": {},
   "outputs": [
    {
     "data": {
      "text/plain": [
       "(1, 2, 3)"
      ]
     },
     "execution_count": 28,
     "metadata": {},
     "output_type": "execute_result"
    }
   ],
   "source": [
    "test10(1,2,3)"
   ]
  },
  {
   "cell_type": "code",
   "execution_count": 29,
   "id": "918cb271-0878-4d85-98ba-2ff5031e3d1b",
   "metadata": {},
   "outputs": [],
   "source": [
    "def test11(*args,a):\n",
    "    return args ,a"
   ]
  },
  {
   "cell_type": "code",
   "execution_count": 31,
   "id": "01fce7ef-c0e0-49e5-b39e-fba553a0ffda",
   "metadata": {},
   "outputs": [
    {
     "ename": "TypeError",
     "evalue": "test11() missing 1 required keyword-only argument: 'a'",
     "output_type": "error",
     "traceback": [
      "\u001b[0;31m---------------------------------------------------------------------------\u001b[0m",
      "\u001b[0;31mTypeError\u001b[0m                                 Traceback (most recent call last)",
      "Cell \u001b[0;32mIn[31], line 1\u001b[0m\n\u001b[0;32m----> 1\u001b[0m \u001b[43mtest11\u001b[49m\u001b[43m(\u001b[49m\u001b[38;5;241;43m1\u001b[39;49m\u001b[43m,\u001b[49m\u001b[38;5;241;43m3\u001b[39;49m\u001b[43m,\u001b[49m\u001b[38;5;241;43m4\u001b[39;49m\u001b[43m,\u001b[49m\u001b[38;5;241;43m5\u001b[39;49m\u001b[43m,\u001b[49m\u001b[38;5;241;43m6\u001b[39;49m\u001b[43m)\u001b[49m\n",
      "\u001b[0;31mTypeError\u001b[0m: test11() missing 1 required keyword-only argument: 'a'"
     ]
    }
   ],
   "source": [
    "test11(1,3,4,5,6)"
   ]
  },
  {
   "cell_type": "code",
   "execution_count": 32,
   "id": "362ce9b5-3839-4e62-b2cd-36edab14de3b",
   "metadata": {},
   "outputs": [
    {
     "data": {
      "text/plain": [
       "((1, 2, 3, 4), 25)"
      ]
     },
     "execution_count": 32,
     "metadata": {},
     "output_type": "execute_result"
    }
   ],
   "source": [
    "test11(1,2,3,4,a =25)"
   ]
  },
  {
   "cell_type": "code",
   "execution_count": 34,
   "id": "9539d537-cb2f-4245-b822-79233f706049",
   "metadata": {},
   "outputs": [],
   "source": [
    " def test12(c,d,a = 23, b =1):\n",
    "    return a,b,c,d"
   ]
  },
  {
   "cell_type": "code",
   "execution_count": 37,
   "id": "83e1f123-91d5-4791-bbba-48df1e45d57e",
   "metadata": {},
   "outputs": [
    {
     "ename": "TypeError",
     "evalue": "test12() missing 2 required positional arguments: 'c' and 'd'",
     "output_type": "error",
     "traceback": [
      "\u001b[0;31m---------------------------------------------------------------------------\u001b[0m",
      "\u001b[0;31mTypeError\u001b[0m                                 Traceback (most recent call last)",
      "Cell \u001b[0;32mIn[37], line 1\u001b[0m\n\u001b[0;32m----> 1\u001b[0m \u001b[43mtest12\u001b[49m\u001b[43m(\u001b[49m\u001b[43m)\u001b[49m\n",
      "\u001b[0;31mTypeError\u001b[0m: test12() missing 2 required positional arguments: 'c' and 'd'"
     ]
    }
   ],
   "source": [
    "test12()"
   ]
  },
  {
   "cell_type": "code",
   "execution_count": 38,
   "id": "2a4fe6b5-64cf-4dd1-9feb-0f29d3e0c531",
   "metadata": {},
   "outputs": [
    {
     "data": {
      "text/plain": [
       "(23, 1, 3, 4)"
      ]
     },
     "execution_count": 38,
     "metadata": {},
     "output_type": "execute_result"
    }
   ],
   "source": [
    "test12(3,4)"
   ]
  },
  {
   "cell_type": "code",
   "execution_count": 40,
   "id": "96213d12-1c8d-4f4b-bb9a-b0531b73a9e2",
   "metadata": {},
   "outputs": [
    {
     "data": {
      "text/plain": [
       "(345, 1, 2, 3)"
      ]
     },
     "execution_count": 40,
     "metadata": {},
     "output_type": "execute_result"
    }
   ],
   "source": [
    "test12(2,3,a = 345)"
   ]
  },
  {
   "cell_type": "code",
   "execution_count": 41,
   "id": "03e2945e-9c13-4e2f-90d8-79304c8c68e0",
   "metadata": {},
   "outputs": [],
   "source": [
    "def test15(**kwargs):\n",
    "    return kwargs\n"
   ]
  },
  {
   "cell_type": "code",
   "execution_count": 42,
   "id": "01f2c14e-5e71-4360-876d-f4d6c7c2ed98",
   "metadata": {},
   "outputs": [
    {
     "data": {
      "text/plain": [
       "{}"
      ]
     },
     "execution_count": 42,
     "metadata": {},
     "output_type": "execute_result"
    }
   ],
   "source": [
    "test15()"
   ]
  },
  {
   "cell_type": "code",
   "execution_count": 43,
   "id": "29526b3d-b42b-48b4-a203-bd1c1a0a8786",
   "metadata": {},
   "outputs": [
    {
     "data": {
      "text/plain": [
       "dict"
      ]
     },
     "execution_count": 43,
     "metadata": {},
     "output_type": "execute_result"
    }
   ],
   "source": [
    "type(test15())"
   ]
  },
  {
   "cell_type": "code",
   "execution_count": 45,
   "id": "54c5550b-ee70-4859-a593-2917c318526e",
   "metadata": {},
   "outputs": [
    {
     "data": {
      "text/plain": [
       "{'a': [1, 2, 3, 4], 'b': 'sudh', 'c': 23.34}"
      ]
     },
     "execution_count": 45,
     "metadata": {},
     "output_type": "execute_result"
    }
   ],
   "source": [
    "test15(a = [1,2,3,4],b = \"sudh\" , c=23.34)"
   ]
  },
  {
   "cell_type": "code",
   "execution_count": null,
   "id": "479ba295-c4f6-47de-abf3-9dee7c68019e",
   "metadata": {},
   "outputs": [],
   "source": []
  }
 ],
 "metadata": {
  "kernelspec": {
   "display_name": "Python 3 (ipykernel)",
   "language": "python",
   "name": "python3"
  },
  "language_info": {
   "codemirror_mode": {
    "name": "ipython",
    "version": 3
   },
   "file_extension": ".py",
   "mimetype": "text/x-python",
   "name": "python",
   "nbconvert_exporter": "python",
   "pygments_lexer": "ipython3",
   "version": "3.10.8"
  }
 },
 "nbformat": 4,
 "nbformat_minor": 5
}
