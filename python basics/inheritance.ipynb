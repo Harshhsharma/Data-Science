{
 "cells": [
  {
   "cell_type": "code",
   "execution_count": 2,
   "id": "6152768a-47d3-46fb-862d-94f0109802f6",
   "metadata": {},
   "outputs": [],
   "source": [
    "class test:\n",
    "    def test_math(self):\n",
    "        return \"this is my first class\"\n",
    "    "
   ]
  },
  {
   "cell_type": "code",
   "execution_count": 3,
   "id": "c0756327-0ae8-46ba-9878-094f68197608",
   "metadata": {},
   "outputs": [],
   "source": [
    "class child_test(test):\n",
    "    pass"
   ]
  },
  {
   "cell_type": "code",
   "execution_count": 4,
   "id": "4e14f0a0-10de-4481-b9e8-da4b57ea069c",
   "metadata": {},
   "outputs": [],
   "source": [
    "child_test_obj = child_test()"
   ]
  },
  {
   "cell_type": "code",
   "execution_count": 6,
   "id": "00e04f21-00b0-4acd-bff8-0b364fddd60c",
   "metadata": {},
   "outputs": [
    {
     "data": {
      "text/plain": [
       "'this is my first class'"
      ]
     },
     "execution_count": 6,
     "metadata": {},
     "output_type": "execute_result"
    }
   ],
   "source": [
    "child_test_obj.test_math()"
   ]
  },
  {
   "cell_type": "code",
   "execution_count": 7,
   "id": "c51fc8cd-8035-43e6-9ab6-b662d46f6aec",
   "metadata": {},
   "outputs": [],
   "source": [
    "class class1:\n",
    "    def test_class1(self):\n",
    "        return \"hello\""
   ]
  },
  {
   "cell_type": "code",
   "execution_count": 8,
   "id": "4f1ee392-c5a7-4d3c-a8cd-2b60e341ca43",
   "metadata": {},
   "outputs": [],
   "source": [
    "class class2(class1):\n",
    "    def test_class2(self):\n",
    "        return \"hello2\""
   ]
  },
  {
   "cell_type": "code",
   "execution_count": 9,
   "id": "71f55889-f60b-4b3f-802d-8cee99103009",
   "metadata": {},
   "outputs": [],
   "source": [
    "class class3(class2):\n",
    "    pass"
   ]
  },
  {
   "cell_type": "code",
   "execution_count": 10,
   "id": "604f227b-e542-43cc-8072-5aadd6f97eb4",
   "metadata": {},
   "outputs": [],
   "source": [
    "obj_class3 = class3()"
   ]
  },
  {
   "cell_type": "code",
   "execution_count": 12,
   "id": "5f5fe069-149d-40ec-8fb4-604da4e584cc",
   "metadata": {},
   "outputs": [
    {
     "data": {
      "text/plain": [
       "'hello'"
      ]
     },
     "execution_count": 12,
     "metadata": {},
     "output_type": "execute_result"
    }
   ],
   "source": [
    "obj_class3.test_class1() #multilevel inheritance"
   ]
  },
  {
   "cell_type": "code",
   "execution_count": 17,
   "id": "71097fa3-2135-4594-ae0d-ab693d66c2c0",
   "metadata": {},
   "outputs": [],
   "source": [
    "class class1:\n",
    "    def test_class1(self):\n",
    "        return\"hello bhai\""
   ]
  },
  {
   "cell_type": "code",
   "execution_count": 20,
   "id": "dbbd48a8-2692-4a99-8580-1a21617cacb5",
   "metadata": {},
   "outputs": [],
   "source": [
    "class class2:\n",
    "    def test_class2(self):\n",
    "        return \"ram ram\""
   ]
  },
  {
   "cell_type": "code",
   "execution_count": 21,
   "id": "ddfc18b1-ac01-4d65-bda3-d1ebc0d47252",
   "metadata": {},
   "outputs": [],
   "source": [
    "class class3(class1,class2):\n",
    "    pass"
   ]
  },
  {
   "cell_type": "code",
   "execution_count": 22,
   "id": "258aa87e-c7a7-4494-a1b9-993f561e0503",
   "metadata": {},
   "outputs": [],
   "source": [
    "obj_class3 = class3()"
   ]
  },
  {
   "cell_type": "code",
   "execution_count": 23,
   "id": "324dd768-bb19-46e7-962f-2a040ddcd507",
   "metadata": {},
   "outputs": [
    {
     "data": {
      "text/plain": [
       "'hello bhai'"
      ]
     },
     "execution_count": 23,
     "metadata": {},
     "output_type": "execute_result"
    }
   ],
   "source": [
    "obj_class3.test_class1()"
   ]
  },
  {
   "cell_type": "code",
   "execution_count": 24,
   "id": "a54533bf-4d21-44e2-b19a-8834926ef1ed",
   "metadata": {},
   "outputs": [
    {
     "data": {
      "text/plain": [
       "'ram ram'"
      ]
     },
     "execution_count": 24,
     "metadata": {},
     "output_type": "execute_result"
    }
   ],
   "source": [
    "obj_class3.test_class2()"
   ]
  },
  {
   "cell_type": "markdown",
   "id": "35b85705-c583-4807-852e-bddeb379d936",
   "metadata": {},
   "source": [
    "multiple inheritance"
   ]
  },
  {
   "cell_type": "code",
   "execution_count": null,
   "id": "90f4cd35-5fd1-4527-93e3-652094691b78",
   "metadata": {},
   "outputs": [],
   "source": []
  }
 ],
 "metadata": {
  "kernelspec": {
   "display_name": "Python 3 (ipykernel)",
   "language": "python",
   "name": "python3"
  },
  "language_info": {
   "codemirror_mode": {
    "name": "ipython",
    "version": 3
   },
   "file_extension": ".py",
   "mimetype": "text/x-python",
   "name": "python",
   "nbconvert_exporter": "python",
   "pygments_lexer": "ipython3",
   "version": "3.10.8"
  }
 },
 "nbformat": 4,
 "nbformat_minor": 5
}
