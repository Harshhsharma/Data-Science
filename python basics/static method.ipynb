{
 "cells": [
  {
   "cell_type": "code",
   "execution_count": 1,
   "id": "b6a80476-9ddd-466a-b861-ca3d2c17536d",
   "metadata": {},
   "outputs": [],
   "source": [
    "class pwskills:\n",
    "    def student_details(self,name,mail_id,number):\n",
    "        print(name,mail_id,number)"
   ]
  },
  {
   "cell_type": "code",
   "execution_count": 2,
   "id": "3e08c3f0-d3c3-400b-af44-460533c24425",
   "metadata": {},
   "outputs": [],
   "source": [
    "pw = pwskills()"
   ]
  },
  {
   "cell_type": "code",
   "execution_count": 3,
   "id": "50710301-2ab0-4ef5-b7e3-22ebfdedaa16",
   "metadata": {},
   "outputs": [
    {
     "name": "stdout",
     "output_type": "stream",
     "text": [
      "harsh harsh@gamil.com 6474734\n"
     ]
    }
   ],
   "source": [
    "pw.student_details(\"harsh\",\"harsh@gamil.com\",6474734)"
   ]
  },
  {
   "cell_type": "code",
   "execution_count": 11,
   "id": "13a106e7-e27e-465d-99f9-2e2cd1de39b4",
   "metadata": {},
   "outputs": [],
   "source": [
    "class pwskills1:\n",
    "    def student_details(self,name,mail_id,number):\n",
    "        print(name,mail_id,number)\n",
    "    \n",
    "    @staticmethod\n",
    "    def mentor_class(list_mentor):\n",
    "        print(list_mentor)\n",
    "    \n",
    "    def mentor(self,mentor_list):\n",
    "        print(mentor_list)"
   ]
  },
  {
   "cell_type": "code",
   "execution_count": 12,
   "id": "bb4d9cbc-e753-4b1a-8ddb-62d812488eda",
   "metadata": {},
   "outputs": [
    {
     "name": "stdout",
     "output_type": "stream",
     "text": [
      "['sudh', 'harsh']\n"
     ]
    }
   ],
   "source": [
    "pwskills1.mentor_class([\"sudh\",\"harsh\"])"
   ]
  },
  {
   "cell_type": "code",
   "execution_count": 13,
   "id": "769c031e-1210-41c0-aa1b-5cf94c254e74",
   "metadata": {},
   "outputs": [],
   "source": [
    "stu1 = pwskills1()"
   ]
  },
  {
   "cell_type": "code",
   "execution_count": 14,
   "id": "f4669ef0-d426-455c-85be-4ce5a788d749",
   "metadata": {},
   "outputs": [],
   "source": [
    "stu2 = pwskills()"
   ]
  },
  {
   "cell_type": "code",
   "execution_count": 15,
   "id": "2afc4f03-2dab-4283-bab7-c696ade9e2cb",
   "metadata": {},
   "outputs": [],
   "source": [
    "stu3 = pwskills()"
   ]
  },
  {
   "cell_type": "code",
   "execution_count": 27,
   "id": "5e17d1f5-e069-41d7-a93b-a94fa335b40b",
   "metadata": {},
   "outputs": [],
   "source": [
    "class pwskills3:\n",
    "    def student_details(self,name,mail_id,number):\n",
    "        print(name,mail_id,number)\n",
    "        \n",
    "    @staticmethod\n",
    "    def mentor_mail_id(mail_id_mentor):\n",
    "        print(mail_id_mentor)\n",
    "    \n",
    "    @staticmethod\n",
    "    def mentor_class(list_mentor):\n",
    "        pwskills2.mentor_mail_id([\"harfsh@gamil\",\"jakjkd@gamil\"])\n",
    "        print(list_mentor)\n",
    "    @classmethod    \n",
    "    def class_name(cls):\n",
    "        cls.mentor_class([\"harsh\",\"ashu\"])\n",
    "     \n",
    "    \n",
    "    def mentor(self,mentor_list):\n",
    "        print(mentor_list)\n",
    "        self.mentor_class([\"hagshs\",\"hhsjsjs\"])"
   ]
  },
  {
   "cell_type": "code",
   "execution_count": 28,
   "id": "73de2b1f-0091-4010-a003-7adfee697bdd",
   "metadata": {},
   "outputs": [
    {
     "name": "stdout",
     "output_type": "stream",
     "text": [
      "['harfsh@gamil', 'jakjkd@gamil']\n",
      "['harsh', 'ashu']\n"
     ]
    }
   ],
   "source": [
    "pwskills2.class_name()"
   ]
  },
  {
   "cell_type": "code",
   "execution_count": 29,
   "id": "3faafb10-e064-45a7-9ec0-a5331b8134a9",
   "metadata": {},
   "outputs": [
    {
     "name": "stdout",
     "output_type": "stream",
     "text": [
      "['harfsh@gamil', 'jakjkd@gamil']\n",
      "['krssh', 'ywwuw']\n"
     ]
    }
   ],
   "source": [
    "pwskills2.mentor_class([\"krssh\",\"ywwuw\"])"
   ]
  },
  {
   "cell_type": "code",
   "execution_count": 30,
   "id": "289f346d-6901-472b-b090-8068e20bc4bb",
   "metadata": {},
   "outputs": [],
   "source": [
    "pw =pwskills3()"
   ]
  },
  {
   "cell_type": "code",
   "execution_count": 32,
   "id": "db55da9e-3225-4a1a-9b6c-3330c5d689ba",
   "metadata": {},
   "outputs": [
    {
     "name": "stdout",
     "output_type": "stream",
     "text": [
      "['jdkds', 'jdhjsdh']\n",
      "['harfsh@gamil', 'jakjkd@gamil']\n",
      "['hagshs', 'hhsjsjs']\n"
     ]
    }
   ],
   "source": [
    "pw.mentor([\"jdkds\",\"jdhjsdh\"])"
   ]
  },
  {
   "cell_type": "code",
   "execution_count": null,
   "id": "53b77af9-9115-446b-9356-0da4bf4748c4",
   "metadata": {},
   "outputs": [],
   "source": []
  }
 ],
 "metadata": {
  "kernelspec": {
   "display_name": "Python 3 (ipykernel)",
   "language": "python",
   "name": "python3"
  },
  "language_info": {
   "codemirror_mode": {
    "name": "ipython",
    "version": 3
   },
   "file_extension": ".py",
   "mimetype": "text/x-python",
   "name": "python",
   "nbconvert_exporter": "python",
   "pygments_lexer": "ipython3",
   "version": "3.10.8"
  }
 },
 "nbformat": 4,
 "nbformat_minor": 5
}
