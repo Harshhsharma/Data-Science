{
 "cells": [
  {
   "cell_type": "code",
   "execution_count": 2,
   "id": "fda21f2a-336c-4316-bd95-5b10568e4dee",
   "metadata": {},
   "outputs": [],
   "source": [
    "a =\"pwskills\""
   ]
  },
  {
   "cell_type": "code",
   "execution_count": 3,
   "id": "32a6bc20-b79a-4ca6-a395-63f1e98b3843",
   "metadata": {},
   "outputs": [
    {
     "name": "stdout",
     "output_type": "stream",
     "text": [
      "p\n",
      "w\n",
      "s\n",
      "k\n",
      "i\n",
      "l\n",
      "l\n",
      "s\n"
     ]
    }
   ],
   "source": [
    "for i in a:\n",
    "    print(i)"
   ]
  },
  {
   "cell_type": "code",
   "execution_count": 6,
   "id": "94af6e8a-6556-4216-b0f9-a2f7db37bb21",
   "metadata": {},
   "outputs": [
    {
     "name": "stdout",
     "output_type": "stream",
     "text": [
      "P\n",
      "W\n",
      "S\n",
      "K\n",
      "I\n",
      "L\n",
      "L\n",
      "S\n"
     ]
    }
   ],
   "source": [
    "for i in a:\n",
    "    print(i.upper())"
   ]
  },
  {
   "cell_type": "code",
   "execution_count": 7,
   "id": "ab4e79c0-8e8e-4caf-90d1-49378c986daa",
   "metadata": {},
   "outputs": [],
   "source": [
    "l = [2,3,4,5,6,7,8]"
   ]
  },
  {
   "cell_type": "code",
   "execution_count": 9,
   "id": "801f8ce2-9940-4aef-b955-95509d0a8548",
   "metadata": {},
   "outputs": [
    {
     "name": "stdout",
     "output_type": "stream",
     "text": [
      "4\n",
      "5\n",
      "6\n",
      "7\n",
      "8\n",
      "9\n",
      "10\n"
     ]
    }
   ],
   "source": [
    "for i in l:\n",
    "    print(i+2)"
   ]
  },
  {
   "cell_type": "code",
   "execution_count": 10,
   "id": "03f253b5-7083-43cf-b5fc-619d7d6c0cc8",
   "metadata": {},
   "outputs": [
    {
     "data": {
      "text/plain": [
       "[2, 3, 4, 5, 6, 7, 8]"
      ]
     },
     "execution_count": 10,
     "metadata": {},
     "output_type": "execute_result"
    }
   ],
   "source": [
    "l"
   ]
  },
  {
   "cell_type": "code",
   "execution_count": 11,
   "id": "cf1acbf6-d29b-4399-88a9-8dedb2d6f8dd",
   "metadata": {},
   "outputs": [
    {
     "name": "stdout",
     "output_type": "stream",
     "text": [
      "2\n",
      "4\n",
      "6\n",
      "8\n"
     ]
    }
   ],
   "source": [
    "for i in l:\n",
    "    if i%2==0:\n",
    "        print(i)"
   ]
  },
  {
   "cell_type": "code",
   "execution_count": 12,
   "id": "4247d124-7242-479c-b307-78025d0ab9cb",
   "metadata": {},
   "outputs": [],
   "source": [
    "l1=[]"
   ]
  },
  {
   "cell_type": "code",
   "execution_count": 18,
   "id": "0fb551d3-d657-4bce-bd22-d763166321ca",
   "metadata": {},
   "outputs": [
    {
     "name": "stdout",
     "output_type": "stream",
     "text": [
      "[2, 4, 6, 8]\n"
     ]
    }
   ],
   "source": [
    "l1=[]\n",
    "for i in l:\n",
    "    if i%2==0:\n",
    "        l1.append(i)\n",
    "print(l1)"
   ]
  },
  {
   "cell_type": "code",
   "execution_count": 19,
   "id": "442a1e8f-ead5-431a-b82b-31517834a65f",
   "metadata": {},
   "outputs": [
    {
     "data": {
      "text/plain": [
       "[2, 3, 4, 5, 6, 7, 8]"
      ]
     },
     "execution_count": 19,
     "metadata": {},
     "output_type": "execute_result"
    }
   ],
   "source": [
    "l"
   ]
  },
  {
   "cell_type": "code",
   "execution_count": 20,
   "id": "21d5f007-8409-4c01-a632-cdb3bb49c21d",
   "metadata": {},
   "outputs": [
    {
     "name": "stdout",
     "output_type": "stream",
     "text": [
      "2\n",
      "3\n",
      "4\n",
      "5\n",
      "6\n",
      "7\n",
      "8\n",
      "this is executed when loops is executed completely\n"
     ]
    }
   ],
   "source": [
    "for i in l :\n",
    "    print(i)\n",
    "else:\n",
    "    print(\"this is executed when loops is executed completely\")"
   ]
  },
  {
   "cell_type": "code",
   "execution_count": 21,
   "id": "ab8327e4-667d-42b1-b0ba-1382749d8f72",
   "metadata": {},
   "outputs": [
    {
     "data": {
      "text/plain": [
       "[2, 3, 4, 5, 6, 7, 8]"
      ]
     },
     "execution_count": 21,
     "metadata": {},
     "output_type": "execute_result"
    }
   ],
   "source": [
    "l"
   ]
  },
  {
   "cell_type": "code",
   "execution_count": 22,
   "id": "700055db-a3d6-468a-8bef-1ba0f537ba19",
   "metadata": {},
   "outputs": [
    {
     "name": "stdout",
     "output_type": "stream",
     "text": [
      "2\n",
      "3\n",
      "4\n",
      "5\n"
     ]
    }
   ],
   "source": [
    "for i in l:\n",
    "    print(i)\n",
    "    if i == 5:\n",
    "        break\n",
    "else:\n",
    "    print(\"this is executed when loops is executed completely\")\n",
    "        "
   ]
  },
  {
   "cell_type": "code",
   "execution_count": 23,
   "id": "8019571a-68df-4336-aa72-0362aad8d520",
   "metadata": {},
   "outputs": [
    {
     "data": {
      "text/plain": [
       "[2, 3, 4, 5, 6, 7, 8]"
      ]
     },
     "execution_count": 23,
     "metadata": {},
     "output_type": "execute_result"
    }
   ],
   "source": [
    "l"
   ]
  },
  {
   "cell_type": "code",
   "execution_count": 27,
   "id": "fd930fae-7592-4c23-8430-868025b15fd8",
   "metadata": {},
   "outputs": [
    {
     "name": "stdout",
     "output_type": "stream",
     "text": [
      "35\n"
     ]
    }
   ],
   "source": [
    "b = 0\n",
    "for i in l:\n",
    "    b = b+i\n",
    "print(b)"
   ]
  },
  {
   "cell_type": "code",
   "execution_count": 28,
   "id": "66180841-b266-4393-a467-87920f8697b1",
   "metadata": {},
   "outputs": [],
   "source": [
    "l2 = [2,3,4,5,6,7,\"harsh\",\"pwskill\",4567,True,False]"
   ]
  },
  {
   "cell_type": "code",
   "execution_count": 34,
   "id": "56a172e2-7f98-4ece-9051-a4bd63ec68f0",
   "metadata": {},
   "outputs": [],
   "source": [
    "l_int =[]\n",
    "l_str = []\n",
    "l_bool = []\n",
    "for i in l2:\n",
    "    if type(i)==int:\n",
    "        l_int.append(i)\n",
    "    elif type(i) == str:\n",
    "        l_str.append(i)\n",
    "    elif type(i)==bool:\n",
    "        l_bool.append(i)\n",
    "    "
   ]
  },
  {
   "cell_type": "code",
   "execution_count": 35,
   "id": "2a38d84a-c781-4668-b9cc-35543ef7d392",
   "metadata": {},
   "outputs": [
    {
     "data": {
      "text/plain": [
       "[True, False]"
      ]
     },
     "execution_count": 35,
     "metadata": {},
     "output_type": "execute_result"
    }
   ],
   "source": [
    "l_bool"
   ]
  },
  {
   "cell_type": "code",
   "execution_count": 36,
   "id": "205e0e68-71cc-4578-930f-136d7c2e9d80",
   "metadata": {},
   "outputs": [],
   "source": [
    "t=(2,3,4,5,6,7,\"harsh\",\"hello\")"
   ]
  },
  {
   "cell_type": "code",
   "execution_count": 38,
   "id": "efe1a7a6-2fcc-4e82-aa3c-c96cc90dbc61",
   "metadata": {},
   "outputs": [
    {
     "name": "stdout",
     "output_type": "stream",
     "text": [
      "2\n",
      "3\n",
      "4\n",
      "5\n",
      "6\n",
      "7\n",
      "harsh\n",
      "hello\n"
     ]
    }
   ],
   "source": [
    "for i in t:\n",
    "    print(i)"
   ]
  },
  {
   "cell_type": "code",
   "execution_count": 39,
   "id": "570865f4-3eea-4876-b540-0fbe2d929a80",
   "metadata": {},
   "outputs": [],
   "source": [
    "d = {'name':'harsh','age':21,'subject':[\"coa\",\"operating system\",\"dsa\"]}"
   ]
  },
  {
   "cell_type": "code",
   "execution_count": 40,
   "id": "dead06c0-2ec4-4850-ad85-3c1020678c41",
   "metadata": {},
   "outputs": [
    {
     "data": {
      "text/plain": [
       "{'name': 'harsh', 'age': 21, 'subject': ['coa', 'operating system', 'dsa']}"
      ]
     },
     "execution_count": 40,
     "metadata": {},
     "output_type": "execute_result"
    }
   ],
   "source": [
    "d"
   ]
  },
  {
   "cell_type": "code",
   "execution_count": 42,
   "id": "a57bed4b-6d21-4769-8a06-b344f6c23e53",
   "metadata": {},
   "outputs": [
    {
     "data": {
      "text/plain": [
       "dict_items([('name', 'harsh'), ('age', 21), ('subject', ['coa', 'operating system', 'dsa'])])"
      ]
     },
     "execution_count": 42,
     "metadata": {},
     "output_type": "execute_result"
    }
   ],
   "source": [
    "d.items()"
   ]
  },
  {
   "cell_type": "code",
   "execution_count": 45,
   "id": "5a81b1eb-bcce-400b-847c-3d99998023fa",
   "metadata": {},
   "outputs": [
    {
     "name": "stdout",
     "output_type": "stream",
     "text": [
      "('name', 'harsh')\n",
      "('age', 21)\n",
      "('subject', ['coa', 'operating system', 'dsa'])\n"
     ]
    }
   ],
   "source": [
    "for i in d.items():\n",
    "    print(i)"
   ]
  },
  {
   "cell_type": "code",
   "execution_count": 47,
   "id": "9d2e1591-7e4f-4b10-9029-686b944e300f",
   "metadata": {},
   "outputs": [
    {
     "name": "stdout",
     "output_type": "stream",
     "text": [
      "name\n",
      "age\n",
      "subject\n"
     ]
    }
   ],
   "source": [
    "for i in d.keys():\n",
    "    print(i)"
   ]
  },
  {
   "cell_type": "code",
   "execution_count": 50,
   "id": "50b34569-4543-4eb3-826a-f45b8d1010ef",
   "metadata": {},
   "outputs": [
    {
     "name": "stdout",
     "output_type": "stream",
     "text": [
      "False\n"
     ]
    }
   ],
   "source": [
    "for i in d.values():\n",
    "    if type(i)==list:\n",
    "        print('big data' in i)"
   ]
  },
  {
   "cell_type": "raw",
   "id": "5417c5f1-cf05-4b41-94f4-78f3fe514c42",
   "metadata": {},
   "source": [
    "for loop in python"
   ]
  },
  {
   "cell_type": "code",
   "execution_count": null,
   "id": "5eb628e8-9dc1-44ff-bd00-af194ace4585",
   "metadata": {},
   "outputs": [],
   "source": []
  }
 ],
 "metadata": {
  "kernelspec": {
   "display_name": "Python 3 (ipykernel)",
   "language": "python",
   "name": "python3"
  },
  "language_info": {
   "codemirror_mode": {
    "name": "ipython",
    "version": 3
   },
   "file_extension": ".py",
   "mimetype": "text/x-python",
   "name": "python",
   "nbconvert_exporter": "python",
   "pygments_lexer": "ipython3",
   "version": "3.10.8"
  }
 },
 "nbformat": 4,
 "nbformat_minor": 5
}
